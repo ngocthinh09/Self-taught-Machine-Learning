{
 "cells": [
  {
   "cell_type": "code",
   "execution_count": 1,
   "metadata": {},
   "outputs": [],
   "source": [
    "import numpy\n",
    "numpy.random.seed(2)"
   ]
  },
  {
   "cell_type": "code",
   "execution_count": 2,
   "metadata": {},
   "outputs": [],
   "source": [
    "def check_grad(func, grad, X):\n",
    "    X_flat = X.reshape(-1)\n",
    "    shape_X = X.shape\n",
    "    grad_flat = numpy.zeros_like(X_flat)\n",
    "    eps = 1e-6\n",
    "    numElems = X_flat.shape[0]\n",
    "    for i in range(numElems):\n",
    "        Xplus_flat = X_flat.copy()\n",
    "        Xminus_flat = X_flat.copy()\n",
    "        Xplus_flat[i] += eps\n",
    "        Xminus_flat[i] -= eps\n",
    "        Xplus = Xplus_flat.reshape(shape_X)\n",
    "        Xminus = Xminus_flat.reshape(shape_X)\n",
    "        grad_flat[i] = (func(Xplus) - func(Xminus))/(2*eps)\n",
    "    \n",
    "    num_grad = grad_flat.reshape(shape_X)\n",
    "    \n",
    "    diff = numpy.linalg.norm(num_grad - grad(X))\n",
    "    \n",
    "    print(f'Difference between two methods should be small: {diff}')"
   ]
  },
  {
   "cell_type": "code",
   "execution_count": 3,
   "metadata": {},
   "outputs": [
    {
     "name": "stdout",
     "output_type": "stream",
     "text": [
      "Difference between two methods should be small: 1.9405013923224747e-08\n"
     ]
    }
   ],
   "source": [
    "m, n = 10, 20\n",
    "A = numpy.random.rand(m, n)\n",
    "X = numpy.random.rand(n, m)\n",
    "\n",
    "def func1(X):\n",
    "    return numpy.trace(A @ X)\n",
    "\n",
    "def grad1(X):\n",
    "    return A.T\n",
    "\n",
    "check_grad(func1, grad1, X)"
   ]
  },
  {
   "cell_type": "code",
   "execution_count": 4,
   "metadata": {},
   "outputs": [
    {
     "name": "stdout",
     "output_type": "stream",
     "text": [
      "Difference between two methods should be small: 2.959282902678276e-09\n"
     ]
    },
    {
     "name": "stderr",
     "output_type": "stream",
     "text": [
      "C:\\Users\\Thinh Vo\\AppData\\Local\\Temp\\ipykernel_9224\\3889253452.py:14: DeprecationWarning: Conversion of an array with ndim > 0 to a scalar is deprecated, and will error in future. Ensure you extract a single element from your array before performing this operation. (Deprecated NumPy 1.25.)\n",
      "  grad_flat[i] = (func(Xplus) - func(Xminus))/(2*eps)\n"
     ]
    }
   ],
   "source": [
    "A = numpy.random.rand(m, m)\n",
    "X = numpy.random.rand(m, 1)\n",
    "\n",
    "def func2(X):\n",
    "    return ((X.T @ A) @ X)\n",
    "\n",
    "def grad2(X):\n",
    "    return ((A + A.T) @ X)\n",
    "\n",
    "check_grad(func2, grad2, X)"
   ]
  }
 ],
 "metadata": {
  "kernelspec": {
   "display_name": "Python 3",
   "language": "python",
   "name": "python3"
  },
  "language_info": {
   "codemirror_mode": {
    "name": "ipython",
    "version": 3
   },
   "file_extension": ".py",
   "mimetype": "text/x-python",
   "name": "python",
   "nbconvert_exporter": "python",
   "pygments_lexer": "ipython3",
   "version": "3.13.0"
  }
 },
 "nbformat": 4,
 "nbformat_minor": 4
}
