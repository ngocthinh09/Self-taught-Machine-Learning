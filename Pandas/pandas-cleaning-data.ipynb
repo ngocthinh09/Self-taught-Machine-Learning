{
 "cells": [
  {
   "cell_type": "code",
   "execution_count": null,
   "metadata": {},
   "outputs": [],
   "source": [
    "import pandas"
   ]
  },
  {
   "cell_type": "markdown",
   "metadata": {},
   "source": [
    "### Cleaning Data"
   ]
  },
  {
   "cell_type": "markdown",
   "metadata": {},
   "source": [
    "#### Data Cleaning\n",
    "Data cleaning means fixing bad data in your data set. <br>\n",
    "\n",
    "Bad data could be:\n",
    "- Empty cells\n",
    "- Data in wrong format\n",
    "- Wrong data\n",
    "- Duplicates"
   ]
  },
  {
   "cell_type": "markdown",
   "metadata": {},
   "source": [
    "### Cleaning Empty Cells"
   ]
  },
  {
   "cell_type": "markdown",
   "metadata": {},
   "source": [
    "#### Empty Cells\n",
    "Empty cells can potentially give you a wrong result when you analyze data."
   ]
  },
  {
   "cell_type": "markdown",
   "metadata": {},
   "source": [
    "#### Remove Rows\n",
    "One way to deal with empty cells is to remove rows that contain empty cells. <br>\n",
    "\n",
    "This is usually OK, since data sets can be very big, and removing a few rows will not have a big impact on the result.\n",
    "\n",
    "Example\n",
    "\n",
    "    - Return a new Data Frame with no empty cells:"
   ]
  },
  {
   "cell_type": "code",
   "execution_count": null,
   "metadata": {},
   "outputs": [],
   "source": [
    "df = pandas.read_csv('test_data/data-clean.csv')\n",
    "new_df = df.dropna()\n",
    "print(new_df)"
   ]
  },
  {
   "cell_type": "markdown",
   "metadata": {},
   "source": [
    "**Note:** By default, the dropna() method returns a new DataFrame, and will not change the original. <br>\n",
    "\n",
    "If you want to change the original DataFrame, use the inplace = True argument. <br>\n",
    "\n",
    "Example\n",
    "    \n",
    "    - Remove all rows with NULL values:"
   ]
  },
  {
   "cell_type": "code",
   "execution_count": null,
   "metadata": {},
   "outputs": [],
   "source": [
    "df.dropna(inplace = True)\n",
    "print(df)"
   ]
  },
  {
   "cell_type": "markdown",
   "metadata": {},
   "source": [
    "**Note:** Now, the dropna(inplace = True) will NOT return a new DataFrame, but it will remove all rows containing NULL values from the original DataFrame."
   ]
  },
  {
   "cell_type": "markdown",
   "metadata": {},
   "source": [
    "#### Replace Empty Values"
   ]
  },
  {
   "cell_type": "markdown",
   "metadata": {},
   "source": [
    "Another way of dealing with empty cells is to insert a new value instead. <br>\n",
    "\n",
    "This way you do not have to delete entire rows just because of some empty cells. <br>\n",
    "\n",
    "The fillna() method allows us to replace empty cells with a value. <br>\n",
    "\n",
    "Example\n",
    "\n",
    "    - Replace NULL values with the number 130:"
   ]
  },
  {
   "cell_type": "code",
   "execution_count": null,
   "metadata": {},
   "outputs": [],
   "source": [
    "df = pandas.read_csv('test_data/data-clean.csv')\n",
    "df.fillna(130,inplace = True)\n",
    "print(df)"
   ]
  },
  {
   "cell_type": "markdown",
   "metadata": {},
   "source": [
    "##### Replace Only For Specified Columns\n",
    "The example above replaces all empty cells in the whole Data Frame. <br>\n",
    "\n",
    "To only replace empty values for one column, specify the column name for the DataFrame. <br>\n",
    "\n",
    "Example\n",
    "\n",
    "    - Replace NULL values in the \"Calories\" columns with the number 130:"
   ]
  },
  {
   "cell_type": "code",
   "execution_count": null,
   "metadata": {},
   "outputs": [],
   "source": [
    "df = pandas.read_csv('test_data/data-clean.csv')\n",
    "\n",
    "# df[\"Calories\"].fillna(130, inplace = True)\n",
    "\n",
    "df[\"Calories\"] = df[\"Calories\"].fillna(130)\n",
    "print(df)"
   ]
  },
  {
   "cell_type": "markdown",
   "metadata": {},
   "source": [
    "#### Replace Using Mean, Median, or Mode"
   ]
  },
  {
   "cell_type": "markdown",
   "metadata": {},
   "source": [
    "A common way to replace empty cells, is to calculate the mean, median or mode value of the column. <br>\n",
    "\n",
    "Pandas uses the mean() median() and mode() methods to calculate the respective values for a specified column. <br>\n",
    "\n",
    "Example\n",
    "\n",
    "    - Calculate the MEAN, and replace any empty values with it:"
   ]
  },
  {
   "cell_type": "code",
   "execution_count": null,
   "metadata": {},
   "outputs": [],
   "source": [
    "df = pandas.read_csv('test_data/data-clean.csv')\n",
    "\n",
    "mean = df[\"Calories\"].mean()\n",
    "\n",
    "df[\"Calories\"] = df[\"Calories\"].fillna(mean)\n",
    "\n",
    "print(df)"
   ]
  },
  {
   "cell_type": "markdown",
   "metadata": {},
   "source": [
    "    - Calculate the MEDIAN, and replace any empty values with it:"
   ]
  },
  {
   "cell_type": "code",
   "execution_count": null,
   "metadata": {},
   "outputs": [],
   "source": [
    "df = pandas.read_csv('test_data/data-clean.csv')\n",
    "\n",
    "median = df[\"Calories\"].median()\n",
    "\n",
    "df[\"Calories\"] = df[\"Calories\"].fillna(median)\n",
    "\n",
    "print(df)"
   ]
  },
  {
   "cell_type": "markdown",
   "metadata": {},
   "source": [
    "    - Calculate the MODE, and replace any empty values with it:"
   ]
  },
  {
   "cell_type": "code",
   "execution_count": null,
   "metadata": {},
   "outputs": [],
   "source": [
    "df = pandas.read_csv('test_data/data-clean.csv')\n",
    "\n",
    "mode = df[\"Calories\"].mode()\n",
    "\n",
    "df[\"Calories\"] = df[\"Calories\"].fillna(mode)\n",
    "\n",
    "print(df)"
   ]
  },
  {
   "cell_type": "markdown",
   "metadata": {},
   "source": [
    "### Cleaning Data of Wrong Format"
   ]
  },
  {
   "cell_type": "markdown",
   "metadata": {},
   "source": [
    "#### Data of Wrong Format\n",
    "Cells with data of wrong format can make it difficult, or even impossible, to analyze data. <br>\n",
    "\n",
    "To fix it, you have two options: remove the rows, or convert all cells in the columns into the same format."
   ]
  },
  {
   "cell_type": "markdown",
   "metadata": {},
   "source": [
    "#### Convert Into a Correct Format\n",
    "In our Data Frame, we have two cells with the wrong format. Check out row 22 and 26, the 'Date' column should be a string that represents a date. <br>\n",
    "\n",
    "Pandas has a to_datetime() method for this. <br>\n",
    "\n",
    "Example\n",
    "\n",
    "    - Convert to date:"
   ]
  },
  {
   "cell_type": "code",
   "execution_count": null,
   "metadata": {},
   "outputs": [],
   "source": [
    "df = pandas.read_csv('test_data/data-clean.csv')\n",
    "\n",
    "df['Date'] = pandas.to_datetime(df['Date'], format = 'mixed', dayfirst = False, errors = 'coerce')\n",
    "\n",
    "print(df)"
   ]
  },
  {
   "cell_type": "markdown",
   "metadata": {},
   "source": [
    "#### Removing Rows\n",
    "The result from the converting in the example above gave us a NaT value, which can be handled as a NULL value, and we can remove the row by using the dropna() method. <br>\n",
    "\n",
    "Example\n",
    "\n",
    "    - Remove rows with a NULL value in the \"Date\" column:"
   ]
  },
  {
   "cell_type": "code",
   "execution_count": null,
   "metadata": {},
   "outputs": [],
   "source": [
    "df.dropna(subset = ['Date'], inplace = True)\n",
    "print(df)"
   ]
  },
  {
   "cell_type": "markdown",
   "metadata": {},
   "source": [
    "### Fixing Wrong Data"
   ]
  },
  {
   "cell_type": "markdown",
   "metadata": {},
   "source": [
    "#### Wrong Data\n",
    "\"Wrong data\" does not have to be \"empty cells\" or \"wrong format\", it can just be wrong, like if someone registered \"199\" instead of \"1.99\".\n",
    "\n",
    "Sometimes you can spot wrong data by looking at the data set, because you have an expectation of what it should be.\n",
    "\n",
    "If you take a look at our data set, you can see that in row 7, the duration is 450, but for all the other rows the duration is between 30 and 60."
   ]
  },
  {
   "cell_type": "markdown",
   "metadata": {},
   "source": [
    "#### Replacing Values\n",
    "One way to fix wrong values is to replace them with something else.\n",
    "\n",
    "In our example, it is most likely a typo, and the value should be \"45\" instead of \"450\", and we could just insert \"45\" in row 7.\n",
    "\n",
    "Example\n",
    "\n",
    "    - Set \"Duration\" = 45 in row 7:"
   ]
  },
  {
   "cell_type": "code",
   "execution_count": null,
   "metadata": {},
   "outputs": [],
   "source": [
    "df = pandas.read_csv('test_data/data-clean.csv')\n",
    "\n",
    "df.loc[7,'Duration'] = 45\n",
    "\n",
    "print(df)"
   ]
  },
  {
   "cell_type": "markdown",
   "metadata": {},
   "source": [
    "For small data sets you might be able to replace the wrong data one by one, but not for big data sets.\n",
    "\n",
    "To replace wrong data for larger data sets you can create some rules, e.g. set some boundaries for legal values, and replace any values that are outside of the boundaries."
   ]
  },
  {
   "cell_type": "code",
   "execution_count": null,
   "metadata": {},
   "outputs": [],
   "source": [
    "df = pandas.read_csv('test_data/data-clean.csv')\n",
    "for x in df.index:\n",
    "    if (df.loc[x, 'Duration'] > 120):\n",
    "        df.loc[x, 'Duration'] = 120\n",
    "print(df)"
   ]
  },
  {
   "cell_type": "markdown",
   "metadata": {},
   "source": [
    "#### Removing Rows\n",
    "Another way of handling wrong data is to remove the rows that contains wrong data.\n",
    "\n",
    "This way you do not have to find out what to replace them with, and there is a good chance you do not need them to do your analyses\n",
    "\n",
    "Example\n",
    "\n",
    "    - Delete rows where \"Duration\" is higher than 120:"
   ]
  },
  {
   "cell_type": "code",
   "execution_count": null,
   "metadata": {},
   "outputs": [],
   "source": [
    "df = pandas.read_csv('test_data/data-clean.csv')\n",
    "for x in df.index:\n",
    "    if (df.loc[x, 'Duration'] > 120):\n",
    "        df.drop(x,inplace = True)\n",
    "    \n",
    "print(df)"
   ]
  },
  {
   "cell_type": "markdown",
   "metadata": {},
   "source": [
    "### Removing Duplicates\n"
   ]
  },
  {
   "cell_type": "markdown",
   "metadata": {},
   "source": [
    "#### Discovering Duplicates\n",
    "Duplicate rows are rows that have been registered more than one time.\n",
    "\n",
    "By taking a look at our test data set, we can assume that row 11 and 12 are duplicates.\n",
    "\n",
    "To discover duplicates, we can use the duplicated() method.\n",
    "\n",
    "The duplicated() method returns a Boolean values for each row."
   ]
  },
  {
   "cell_type": "code",
   "execution_count": null,
   "metadata": {},
   "outputs": [],
   "source": [
    "print(df.duplicated())"
   ]
  },
  {
   "cell_type": "markdown",
   "metadata": {},
   "source": [
    "#### Removing Duplicates\n",
    "To remove duplicates, use the drop_duplicates() method."
   ]
  },
  {
   "cell_type": "code",
   "execution_count": null,
   "metadata": {},
   "outputs": [],
   "source": [
    "df.drop_duplicates(inplace = True)"
   ]
  }
 ],
 "metadata": {
  "kernelspec": {
   "display_name": "Python 3",
   "language": "python",
   "name": "python3"
  },
  "language_info": {
   "codemirror_mode": {
    "name": "ipython",
    "version": 3
   },
   "file_extension": ".py",
   "mimetype": "text/x-python",
   "name": "python",
   "nbconvert_exporter": "python",
   "pygments_lexer": "ipython3",
   "version": "3.13.0"
  }
 },
 "nbformat": 4,
 "nbformat_minor": 2
}
