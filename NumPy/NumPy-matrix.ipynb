{
 "cells": [
  {
   "cell_type": "code",
   "execution_count": 1,
   "metadata": {},
   "outputs": [],
   "source": [
    "import numpy\n",
    "from numpy import array"
   ]
  },
  {
   "cell_type": "markdown",
   "metadata": {},
   "source": [
    "### 2.0 Mảng nhiều chiều\n",
    "Trong Numpy, người ta thường dùng mảng numpy hai chiều để thể hiện một ma trận. Mảng hai chiều có thể coi là một mảng của các mảng một chiều. Trong đó, mỗi mảng nhỏ một chiều tương ứng với một hàng của ma trận. <br>\n",
    "Nói cách khác, ma trận có thể được coi là mảng của các vector hàng - mỗi vector hàng được biểu diễn bằng một mảng numpy một chiều. <br>"
   ]
  },
  {
   "cell_type": "code",
   "execution_count": 2,
   "metadata": {},
   "outputs": [
    {
     "data": {
      "text/plain": [
       "array([[1, 2],\n",
       "       [3, 4]])"
      ]
     },
     "execution_count": 2,
     "metadata": {},
     "output_type": "execute_result"
    }
   ],
   "source": [
    "array([[1, 2],\n",
    "       [3, 4]])"
   ]
  },
  {
   "cell_type": "markdown",
   "metadata": {},
   "source": [
    "Ở đây chúng ta có thể nhìn thấy ba mảng, mỗi mảng được thể hiện bằng một cặp đóng mở ngoặc vuông []:\n",
    "- Hai mảng [1, 2] và [3, 4] thể hiện các hàng của ma trận. Chúng là các mảng một chiều.\n",
    "- Mảng [[1, 2], [3, 4]] có hai phân tử, mỗi phần tử là một hàng của ma trận.\n",
    "\n",
    "Theo quy ước của Numpy, chúng ta cần đi từ mảng ngoài cùng tới các mảng trong:\n",
    "- Mảng lớn nhất là [[1, 2], [3, 4]] được coi là mảng ứng với axis = 0. Trong mảng này, thành phần thứ nhất là [1, 2], thành phần thứ hai là [3, 4].\n",
    "- Hai mảng lớn thứ hai là [1, 2] và [3, 4] được coi là các mảng ứng với axis = 1."
   ]
  },
  {
   "cell_type": "markdown",
   "metadata": {},
   "source": [
    "<img src=\"./images/array2d.png\" align=\"center\" width=\"400\">"
   ]
  },
  {
   "cell_type": "markdown",
   "metadata": {},
   "source": [
    "**Chú ý:**\n",
    "1. Một mảng numpy hoàn toàn có thể có nhiều hơn hai chiều. Khi đó ta vẫn đi từ cặp ngoặc vuông ngoài cùng vào tới trong cùng, axis cũng đi từ 0, 1, ... theo thứ tự đó.\n",
    "\n",
    "2. Mỗi mảng con phải có số phần tử bằng nhau, thể hiện cho việc mỗi hàng của ma trận phải có số chiều như nhau, không có hàng nào thò ra thụt vào.\n",
    "\n",
    "3. Khi làm việc với các thư viện cho Machine Learning, mỗi điểm dữ liệu thường được coi là một mảng một chiều. Tập hợp các điểm dữ liệu thường được lưu trong một ma trận - tức mảng của các mảng một chiều. Trong ma trận này, mỗi hàng tương ứng với một điểm dữ liệu."
   ]
  },
  {
   "cell_type": "markdown",
   "metadata": {},
   "source": [
    "### 2.1 Khởi tạo một ma trận"
   ]
  },
  {
   "cell_type": "markdown",
   "metadata": {},
   "source": [
    "#### 2.1.1 Khởi tạo một ma trận\n",
    "Cách đơn giản nhất để khởi tạo một ma trận là nhập vào từng phần tử của ma trận đó."
   ]
  },
  {
   "cell_type": "code",
   "execution_count": 3,
   "metadata": {},
   "outputs": [
    {
     "name": "stdout",
     "output_type": "stream",
     "text": [
      "[[1 2]\n",
      " [3 4]]\n"
     ]
    }
   ],
   "source": [
    "A = numpy.array([[1, 2],\n",
    "                 [3, 4]])\n",
    "print(A)"
   ]
  },
  {
   "cell_type": "markdown",
   "metadata": {},
   "source": [
    "Khi khai báo một mảng numpy nói chung, nếu ít nhất một phần tử của mảng là float, type của mọi phần tử trong mảng sẽ được coi là 'numpy.float64'\n",
    "\n",
    "Ngược lại, nếu toàn bộ các phần tử là số nguyên, type của mọi phần tử trong mảng sẽ được coi là 'numpy.int64'\n",
    "\n",
    "Nếu muốn chỉ định type của các phần tử trong mảng, ta cần đặt giá trị cho dtype"
   ]
  },
  {
   "cell_type": "code",
   "execution_count": 4,
   "metadata": {},
   "outputs": [
    {
     "name": "stdout",
     "output_type": "stream",
     "text": [
      "<class 'numpy.float64'>\n"
     ]
    }
   ],
   "source": [
    "B = numpy.array([[1, 2, 3], [4, 5, 6]], dtype = numpy.float64)\n",
    "print(type(B[0][0]))"
   ]
  },
  {
   "cell_type": "markdown",
   "metadata": {},
   "source": [
    "### 2.2 Ma trận đơn vị và ma trận đường chéo"
   ]
  },
  {
   "cell_type": "markdown",
   "metadata": {},
   "source": [
    "#### 2.2.1 Ma trận đơn vị\n",
    "Để tạo một ma trận đơn vị có số chiều bằng n, chúng ta sử dụng hàm numpy.eye"
   ]
  },
  {
   "cell_type": "code",
   "execution_count": 5,
   "metadata": {},
   "outputs": [
    {
     "data": {
      "text/plain": [
       "array([[1, 0, 0],\n",
       "       [0, 1, 0],\n",
       "       [0, 0, 1]])"
      ]
     },
     "execution_count": 5,
     "metadata": {},
     "output_type": "execute_result"
    }
   ],
   "source": [
    "numpy.eye(3, dtype = numpy.int64)"
   ]
  },
  {
   "cell_type": "markdown",
   "metadata": {},
   "source": [
    "Hàm numpy.eye cũng được dùng để tạo các ma trận toàn 1 ở một đường chéo phụ nào đó, các thành phần còn lại bằng 0"
   ]
  },
  {
   "cell_type": "code",
   "execution_count": 6,
   "metadata": {},
   "outputs": [
    {
     "name": "stdout",
     "output_type": "stream",
     "text": [
      "[[0 1 0]\n",
      " [0 0 1]\n",
      " [0 0 0]]\n",
      "[[0 0 0 0]\n",
      " [0 0 0 0]\n",
      " [1 0 0 0]\n",
      " [0 1 0 0]]\n"
     ]
    }
   ],
   "source": [
    "print(numpy.eye(3, k = 1,dtype = numpy.int64))\n",
    "print(numpy.eye(4, k = -2,dtype = numpy.int64))"
   ]
  },
  {
   "cell_type": "markdown",
   "metadata": {},
   "source": [
    "[Thông tin thêm về cách sử dụng hàm numpy.eye](https://docs.scipy.org/doc/numpy-1.13.0/reference/generated/numpy.eye.html)"
   ]
  },
  {
   "cell_type": "markdown",
   "metadata": {},
   "source": [
    "#### 2.2.2 Ma trận đường chéo\n",
    "Để khai báo một ma trận đường chéo, hoặc muốn trích xuất đường chéo của một ma trận, ta dùng hàm numpy.diag"
   ]
  },
  {
   "cell_type": "code",
   "execution_count": 7,
   "metadata": {},
   "outputs": [
    {
     "name": "stdout",
     "output_type": "stream",
     "text": [
      "[[1 0 0]\n",
      " [0 3 0]\n",
      " [0 0 4]]\n",
      "[1 3 4]\n"
     ]
    }
   ],
   "source": [
    "A = numpy.diag([1, 3, 4])\n",
    "print(A)\n",
    "print(numpy.diag(A,k = 0))"
   ]
  },
  {
   "cell_type": "markdown",
   "metadata": {},
   "source": [
    "- Nếu đầu vào là một mảng một chiều, trả về một mảng hai chiều thể hiện ma trận có đường chéo là các phần tử thuộc mảng đó.\n",
    "\n",
    "- Nếu đầu vào là một mảng hai chiều (có thể không vuông), trả về mảng một chiều chứa các giá trị ở hàng thứ $i$, cột thứ i với $0 <= i <= min(m, n)$. Trong đó $m$, $n$ lần lượt là số hàng và số cột của ma trận được biểu diễn bằng mảng hai chiều ban đầu."
   ]
  },
  {
   "cell_type": "markdown",
   "metadata": {},
   "source": [
    "### 2.3 Kích thước của ma trận\n",
    "Để tìm kích thước của mảng hai chiều, ta sử dụng thuộc tính shape"
   ]
  },
  {
   "cell_type": "code",
   "execution_count": 8,
   "metadata": {},
   "outputs": [
    {
     "name": "stdout",
     "output_type": "stream",
     "text": [
      "(3, 4)\n"
     ]
    }
   ],
   "source": [
    "A = numpy.array([[1, 2, 3, 4],\n",
    "                 [5, 6, 7, 7],\n",
    "                 [9,10,11,12]])\n",
    "print(A.shape)"
   ]
  },
  {
   "cell_type": "markdown",
   "metadata": {},
   "source": [
    "### 2.4 Truy cập vào từng phần tử của ma trận"
   ]
  },
  {
   "cell_type": "markdown",
   "metadata": {},
   "source": [
    "#### 2.4.1 Truy cập vào từng phần tử\n",
    "Để truy cập vào phần từ ở hàng thứ $i$, cột thứ $j$ của ma trận, ta có thể coi đó là phần từ thứ $j$ của mảng $i$ trong mảng hai chiều ban đầu"
   ]
  },
  {
   "cell_type": "code",
   "execution_count": 9,
   "metadata": {},
   "outputs": [
    {
     "name": "stdout",
     "output_type": "stream",
     "text": [
      "6\n",
      "6\n"
     ]
    }
   ],
   "source": [
    "# A[i][j] hoặc A[i,j]\n",
    "A = numpy.array([[1, 2, 3],\n",
    "                 [4, 5, 6],\n",
    "                 [7, 8, 9]])\n",
    "\n",
    "print(A[1][2])\n",
    "print(A[1,2])"
   ]
  },
  {
   "cell_type": "markdown",
   "metadata": {},
   "source": [
    "#### 2.4.2 Truy cập vào hàng/cột\n",
    "Để truy cập vào hàng có chỉ số $i$ của một ma trận $A$, ta chỉ cần dùng $A[i]$ hoặc $A[i,:]$ hoặc $A[i][:]$"
   ]
  },
  {
   "cell_type": "code",
   "execution_count": 10,
   "metadata": {},
   "outputs": [
    {
     "name": "stdout",
     "output_type": "stream",
     "text": [
      "[7 8 9]\n",
      "[1 2 3]\n"
     ]
    }
   ],
   "source": [
    "print(A[2])\n",
    "print(A[0][:])"
   ]
  },
  {
   "cell_type": "markdown",
   "metadata": {},
   "source": [
    "Để truy cập vào cột có chỉ số $j$, ta dùng $A[:,j]$"
   ]
  },
  {
   "cell_type": "code",
   "execution_count": 11,
   "metadata": {},
   "outputs": [
    {
     "name": "stdout",
     "output_type": "stream",
     "text": [
      "[2 5 8]\n"
     ]
    }
   ],
   "source": [
    "print(A[:,1])"
   ]
  },
  {
   "cell_type": "markdown",
   "metadata": {},
   "source": [
    "**Lưu ý:**\n",
    "- *Trong Numpy, kết quả trả về của một cột hay hàng đều là một mảng một chiều, không phải là một vector cột như trong Matlab. Tuy nhiên, khi lấy một ma trận nhân với nó, nó vẫn được coi là một vector cột.*\n",
    "\n",
    "- Nếu sử dụng $A[:][i]$, kết quả trả về là hàng $i$ chứ không phải cột $i$. Trong trường hợp này, $A[:]$ vẫn được hiểu là cả ma trận $A$, vì vậy nên $A[:][i]$ tương đương với $A[i]$.\n",
    "\n",
    "- Có sự khác nhau căn bản giữa $A$ và $A[:]$"
   ]
  },
  {
   "cell_type": "markdown",
   "metadata": {},
   "source": [
    "### 2.5 Truy cập vào nhiều phần tử của ma trận"
   ]
  },
  {
   "cell_type": "markdown",
   "metadata": {},
   "source": [
    "#### 2.5.1 Nhiều phần tử trong cùng một hàng"
   ]
  },
  {
   "cell_type": "code",
   "execution_count": 12,
   "metadata": {},
   "outputs": [
    {
     "name": "stdout",
     "output_type": "stream",
     "text": [
      "[3 4]\n",
      "[ 9 11]\n"
     ]
    }
   ],
   "source": [
    "A = numpy.array([[1, 2, 3, 4],\n",
    "                 [5, 6, 7, 8],\n",
    "                 [9, 10, 11, 12]])\n",
    "print(A[0,2:])\n",
    "print(A[-1,range(0, A.shape[1], 2)])"
   ]
  },
  {
   "cell_type": "markdown",
   "metadata": {},
   "source": [
    "trong đó, $range(0, A.shape[1], 2)$ tạo ra một list các phần tử là cấp số cộng với công sai là 2, bắt đầu từ 0 và kết thúc tại số lớn nhất có thể không vượt quá số cột của $A$. Số cột của $A$ chính là $A.shape[1]$"
   ]
  },
  {
   "cell_type": "markdown",
   "metadata": {},
   "source": [
    "#### 2.5.2 Nhiều phần tử trong cùng một cột\n",
    "Tương tự với nhiều phần tử trong cùng một hàng"
   ]
  },
  {
   "cell_type": "markdown",
   "metadata": {},
   "source": [
    "#### 2.5.3 Nhiều hàng, nhiều cột"
   ]
  },
  {
   "cell_type": "code",
   "execution_count": 13,
   "metadata": {},
   "outputs": [
    {
     "data": {
      "text/plain": [
       "array([[ 5,  8],\n",
       "       [ 9, 12]])"
      ]
     },
     "execution_count": 13,
     "metadata": {},
     "output_type": "execute_result"
    }
   ],
   "source": [
    "A[[1, 2]][:,[0,3]]\n"
   ]
  },
  {
   "cell_type": "markdown",
   "metadata": {},
   "source": [
    "$A[[1, 2]][:, [0,3]]$ có thể hiểu được là: đầu tiên lấy hai hàng có chỉ số $1$ và $2$ bằng $A[[1, 2]]$, ta được một ma trận, sau đó lấy hai cột có chỉ số $0$ và $3$ của ma trận mới này."
   ]
  },
  {
   "cell_type": "code",
   "execution_count": 14,
   "metadata": {},
   "outputs": [
    {
     "name": "stdout",
     "output_type": "stream",
     "text": [
      "[[ 1  3]\n",
      " [ 9 11]]\n"
     ]
    }
   ],
   "source": [
    "Mat = A[0:A.shape[0]:2][:,0:A.shape[1]:2]\n",
    "print(Mat)"
   ]
  },
  {
   "cell_type": "markdown",
   "metadata": {},
   "source": [
    "#### 2.5.4 Cặp các tọa độ"
   ]
  },
  {
   "cell_type": "code",
   "execution_count": 15,
   "metadata": {},
   "outputs": [
    {
     "data": {
      "text/plain": [
       "array([ 5, 12])"
      ]
     },
     "execution_count": 15,
     "metadata": {},
     "output_type": "execute_result"
    }
   ],
   "source": [
    "A[[1, 2], [0, 3]]"
   ]
  },
  {
   "cell_type": "markdown",
   "metadata": {},
   "source": [
    "Câu lệnh này sẽ trả về một mảng một chiều gồm các phần tử: $A[1][0]$ và $A[2][3]$ , tức $[1, 2]$ và $[0, 3]$ là list các toạ độ theo mỗi chiều. Hai list này phải có độ dài bằng nhau hoặc một list có độ dài bằng 1. Khi một list có độ dài bằng 1, nó sẽ được cặp với mọi phần tử của list còn lại."
   ]
  },
  {
   "cell_type": "code",
   "execution_count": 16,
   "metadata": {},
   "outputs": [
    {
     "data": {
      "text/plain": [
       "array([5, 9])"
      ]
     },
     "execution_count": 16,
     "metadata": {},
     "output_type": "execute_result"
    }
   ],
   "source": [
    "A[[1, 2], [0]]"
   ]
  },
  {
   "cell_type": "markdown",
   "metadata": {},
   "source": [
    "### 2.6 Numpy.max, numpy.min, numpy.sum, numpy.mean cho mảng nhiều chiều\n",
    "Nhắc lại về cách quy ước $axis$ của ma trận, $axis = 0$ là tính theo chiều từ trên xuống dưới, nghĩa là phương của nó cùng với phương của các cột. Tương tự $axis = 1$ sẽ có phương cùng với phương của các hàng.\n",
    "\n",
    "<img src=\"./images/array2d.png\" align=\"center\" width=\"400\">"
   ]
  },
  {
   "cell_type": "code",
   "execution_count": 17,
   "metadata": {},
   "outputs": [
    {
     "name": "stdout",
     "output_type": "stream",
     "text": [
      "Sum with axis = 0: [15 18 21 24]\n",
      "Min with axis = 0: [1 2 3 4]\n",
      "Max with axis = 0: [ 9 10 11 12]\n",
      "Average with axis = 0: [5. 6. 7. 8.]\n",
      "-----------------------------------------\n",
      "Sum with axis = 1: [10 26 42]\n",
      "Min with axis = 1: [1 5 9]\n",
      "Max with axis = 1: [ 4  8 12]\n",
      "Average with axis = 1: [ 2.5  6.5 10.5]\n"
     ]
    }
   ],
   "source": [
    "A = numpy.array([[1, 2, 3, 4],\n",
    "                 [5, 6, 7, 8],\n",
    "                 [9, 10, 11, 12]])\n",
    "# Khi axis bằng 0\n",
    "print('Sum with axis = 0: {}'.format(numpy.sum(A, axis = 0)))\n",
    "print('Min with axis = 0: {}'.format(numpy.min(A, axis = 0)))\n",
    "print('Max with axis = 0: {}'.format(numpy.max(A, axis = 0)))\n",
    "print('Average with axis = 0: {}'.format(numpy.mean(A, axis = 0)))\n",
    "print('-----------------------------------------')\n",
    "# Khi axis bằng 1\n",
    "print(f'Sum with axis = 1: {numpy.sum(A, axis = 1)}')\n",
    "print(f'Min with axis = 1: {numpy.min(A, axis = 1)}')\n",
    "print(f'Max with axis = 1: {numpy.max(A, axis = 1)}')\n",
    "print(f'Average with axis = 1: {numpy.mean(A, axis = 1)}')"
   ]
  },
  {
   "cell_type": "markdown",
   "metadata": {},
   "source": [
    "Khi không đề cập tới axis, kết quả được tính trên toàn bộ ma trận"
   ]
  },
  {
   "cell_type": "code",
   "execution_count": 18,
   "metadata": {},
   "outputs": [
    {
     "name": "stdout",
     "output_type": "stream",
     "text": [
      "Sum: 78\n",
      "Min: 1\n",
      "Max: 12\n",
      "Average: 6.5\n"
     ]
    }
   ],
   "source": [
    "print('Sum: {}'.format(numpy.sum(A)))\n",
    "print('Min: {}'.format(numpy.min(A)))\n",
    "print('Max: {}'.format(numpy.max(A)))\n",
    "print('Average: {}'.format(numpy.mean(A)))"
   ]
  },
  {
   "cell_type": "markdown",
   "metadata": {},
   "source": [
    "Thuộc tính $keepdims$: <br>\n",
    "Đôi khi, để thuận tiện cho việc tính toán về sau, chúng ta muốn kết quả trả về khi $axis = 0$ là các vector hàng **thực sự**, khi $axis = 1$ là các vector cột **thực sự**. Để làm được việc đó, Numpy cung cấp thuộc tính $keepdims$ = $True$ (mặc định là $False$). Khi keepdims = True, nếu sử dụng $axis = 0$, kết quả sẽ là một mảng hai chiều có chiều thứ nhất bằng 1 (coi như ma trận một hàng). Tương tự, nếu sử dụng $axis = 1$, kết quả sẽ là một mảng hai chiều có chiều thứ hai bằng 1 (một ma trận có số cột bằng 1)."
   ]
  },
  {
   "cell_type": "code",
   "execution_count": 19,
   "metadata": {},
   "outputs": [
    {
     "name": "stdout",
     "output_type": "stream",
     "text": [
      "[[15 18 21 24]]\n",
      "[[ 2.5]\n",
      " [ 6.5]\n",
      " [10.5]]\n"
     ]
    }
   ],
   "source": [
    "print(numpy.sum(A, axis = 0, keepdims = True))\n",
    "print(numpy.mean(A, axis = 1, keepdims = True))"
   ]
  },
  {
   "cell_type": "markdown",
   "metadata": {},
   "source": [
    "### 2.7 Các phép toán tác động đến mọi phần tử của ma trận"
   ]
  },
  {
   "cell_type": "markdown",
   "metadata": {},
   "source": [
    "#### 2.7.1 Tính toán giữa một mảng hai chiều và một số vô hướng"
   ]
  },
  {
   "cell_type": "code",
   "execution_count": 20,
   "metadata": {},
   "outputs": [
    {
     "name": "stdout",
     "output_type": "stream",
     "text": [
      "[[ 3  4  5  6]\n",
      " [ 7  8  9 10]\n",
      " [11 12 13 14]]\n",
      "[[ 2  4  6  8]\n",
      " [10 12 14 16]\n",
      " [18 20 22 24]]\n",
      "[[   2    4    8   16]\n",
      " [  32   64  128  256]\n",
      " [ 512 1024 2048 4096]]\n"
     ]
    }
   ],
   "source": [
    "A = numpy.array([[1, 2, 3, 4],\n",
    "                 [5, 6, 7, 8],\n",
    "                 [9, 10, 11, 12]])\n",
    "print(A + 2)\n",
    "print(A * 2)\n",
    "print(2 ** A)"
   ]
  },
  {
   "cell_type": "markdown",
   "metadata": {},
   "source": [
    "#### 2.7.2 numpy.abs, numpy.sin, numpy.exp,..."
   ]
  },
  {
   "cell_type": "code",
   "execution_count": 21,
   "metadata": {},
   "outputs": [
    {
     "name": "stdout",
     "output_type": "stream",
     "text": [
      "[[ 2.27726742  0.79515644  0.17406847  0.08115392]\n",
      " [ 0.82998138  1.18687824 -1.0040884  -0.16232969]\n",
      " [ 0.07336832  0.53324641  1.02692534 -0.42735789]]\n",
      "[[2.27726742 0.79515644 0.17406847 0.08115392]\n",
      " [0.82998138 1.18687824 1.0040884  0.16232969]\n",
      " [0.07336832 0.53324641 1.02692534 0.42735789]]\n"
     ]
    }
   ],
   "source": [
    "A = numpy.random.randn(3,4)\n",
    "print(A)\n",
    "print(numpy.abs(A))"
   ]
  },
  {
   "cell_type": "markdown",
   "metadata": {},
   "source": [
    "**Frobenious Norm**\n",
    "\n",
    "![](./images/Frobenious-Norm.png)"
   ]
  },
  {
   "cell_type": "code",
   "execution_count": 22,
   "metadata": {},
   "outputs": [
    {
     "name": "stdout",
     "output_type": "stream",
     "text": [
      "6.244997998398398\n",
      "6.244997998398398\n"
     ]
    }
   ],
   "source": [
    "A = numpy.array([[1, 2],\n",
    "                 [3, 5]])\n",
    "print(numpy.sqrt(numpy.sum(A**2)))\n",
    "print(numpy.linalg.norm(A, ord = 'fro'))"
   ]
  },
  {
   "cell_type": "markdown",
   "metadata": {},
   "source": [
    "### 2.8 Các phép toán giữa hai ma trận\n",
    "Các phép toán cộng, trừ, nhân, chia, luỹ thừa (+, -, *, /, **) giữa hai mảng **cùng kích thước** cũng được thực hiện dựa trên từng cặp phần tử. Kết quả trả về là một mảng cùng chiều với hai mảng đã cho"
   ]
  },
  {
   "cell_type": "code",
   "execution_count": 23,
   "metadata": {},
   "outputs": [
    {
     "name": "stdout",
     "output_type": "stream",
     "text": [
      "[[ 5. 40.]\n",
      " [14.  9.]]\n",
      "[[1.00000e+00 3.90625e+05]\n",
      " [1.28000e+02 2.70000e+01]]\n"
     ]
    }
   ],
   "source": [
    "A = numpy.array([[1., 5],\n",
    "                 [2, 3]])\n",
    "B = numpy.array([[5., 8],\n",
    "                 [7, 3]])\n",
    "print(A * B)\n",
    "print(A ** B)"
   ]
  },
  {
   "cell_type": "markdown",
   "metadata": {},
   "source": [
    "### 2.9 Chuyển vị ma trận, Reshape ma trận"
   ]
  },
  {
   "cell_type": "markdown",
   "metadata": {},
   "source": [
    "#### 2.9.1 Chuyển vị ma trận\n",
    "Có hai cách để lấy chuyển vị của một ma trận: dùng thuộc tính .T hoặc dùng hàm numpy.transpose"
   ]
  },
  {
   "cell_type": "code",
   "execution_count": 24,
   "metadata": {},
   "outputs": [
    {
     "name": "stdout",
     "output_type": "stream",
     "text": [
      "[[1 4]\n",
      " [2 5]\n",
      " [3 6]]\n"
     ]
    }
   ],
   "source": [
    "A = numpy.array([[1, 2, 3],\n",
    "                 [4, 5, 6]])\n",
    "print(A.T)"
   ]
  },
  {
   "cell_type": "markdown",
   "metadata": {},
   "source": [
    "#### 2.9.2 Reshape\n",
    "Khi làm việc với ma trận, chúng ta sẽ phải thường xuyên làm việc với các phép biến đổi kích thước của ma trận. Phép biến đổi kích thước có thể coi là việc sắp xếp lại các phần tử của một ma trận vào một ma trận khác có tổng số phần tử như nhau.\n",
    "\n",
    "Trong numpy, để làm được việc này chúng ta dùng phương thức .reshape hoặc hàm np.reshape."
   ]
  },
  {
   "cell_type": "code",
   "execution_count": 25,
   "metadata": {},
   "outputs": [
    {
     "name": "stdout",
     "output_type": "stream",
     "text": [
      "[[1 2 3 4 5 6]]\n",
      "[[1 2]\n",
      " [3 4]\n",
      " [5 6]]\n",
      "[1 2 3 4 5 6]\n"
     ]
    }
   ],
   "source": [
    "print(numpy.reshape(A, (1,-1)))\n",
    "print(A.reshape(3,2))\n",
    "print(A.reshape(6)) # to 1d array and size is 6"
   ]
  },
  {
   "cell_type": "markdown",
   "metadata": {},
   "source": [
    "#### 2.9.3 Thứ tự của phép toán reshape\n",
    "- Có một điểm quan trọng cần nhớ là thứ tự của phép toán reshape: các phần tử trong mảng mới được sắp xếp như thế nào. Có hai cách sắp xếp chúng ta cần lưu ý: mặc định là 'C'-order, và một cách khác là 'F'-order\n",
    "\n",
    "- Trong 'C'-order, các thành phần của mảng nguồn được quét từ axis trong ra ngoài (axis = 1 rồi mới tới axis = 0 trong mảng hai chiều, tức từng hàng một), sau đó chúng được xếp vào mảng đích cũng theo thứ tự đó.\n",
    "\n",
    "- Trong 'F'-oder (Fortran) các thành phần của mảng nguồn được quét từ axis ngoài vào trong (trong mảng hai chiều là từng cột một), sau đó chúng được sắp xếp vào mảng đích cũng theo thứ tự đó - từng cột một."
   ]
  },
  {
   "cell_type": "code",
   "execution_count": 26,
   "metadata": {},
   "outputs": [
    {
     "name": "stdout",
     "output_type": "stream",
     "text": [
      "[[1 2]\n",
      " [3 4]\n",
      " [5 6]]\n",
      "[[1 5]\n",
      " [4 3]\n",
      " [2 6]]\n"
     ]
    }
   ],
   "source": [
    "print(A.reshape(3, -1, order = 'C'))\n",
    "print(A.reshape(3, -1, order = 'F'))"
   ]
  },
  {
   "cell_type": "markdown",
   "metadata": {},
   "source": [
    "### 2.10 Các phép toán giữa ma trận và vector"
   ]
  },
  {
   "cell_type": "code",
   "execution_count": 27,
   "metadata": {},
   "outputs": [
    {
     "name": "stdout",
     "output_type": "stream",
     "text": [
      "[[ 0  1  2  3]\n",
      " [ 4  5  6  7]\n",
      " [ 8  9 10 11]]\n",
      "[[ 1  3  5  7]\n",
      " [ 5  7  9 11]\n",
      " [ 9 11 13 15]]\n",
      "[[ 0  2  6 12]\n",
      " [ 4 10 18 28]\n",
      " [ 8 18 30 44]]\n"
     ]
    }
   ],
   "source": [
    "A = numpy.arange(12).reshape(3, -1)\n",
    "B = array([1, 2, 3, 4])\n",
    "print(A)\n",
    "print(A + B)\n",
    "print(A * B)"
   ]
  },
  {
   "cell_type": "markdown",
   "metadata": {},
   "source": [
    "### 2.11 Tích giữa hai ma trận, tích giữa ma trận và vector\n",
    "![](./images/mat-mul.png)"
   ]
  },
  {
   "cell_type": "markdown",
   "metadata": {},
   "source": [
    "Cho hai mảng numpy hai chiều A, B trong đó $A.shape[1] == B.shape[0]$. Nếu hai mảng này mô tả hai ma trận thì tích của hai ma trận (theo ĐSTT) có thể được thực hiện bằng thuộc tính .dot hoặc hàm numpy.dot hoặc có thể dùng toán tử @"
   ]
  },
  {
   "cell_type": "code",
   "execution_count": 28,
   "metadata": {},
   "outputs": [
    {
     "name": "stdout",
     "output_type": "stream",
     "text": [
      "[[ 25  28  31  34  37]\n",
      " [ 70  82  94 106 118]\n",
      " [115 136 157 178 199]\n",
      " [160 190 220 250 280]]\n"
     ]
    }
   ],
   "source": [
    "A = numpy.arange(12).reshape(4,3)\n",
    "B = numpy.arange(15).reshape(3,-1)\n",
    "print(A @ B)"
   ]
  },
  {
   "cell_type": "markdown",
   "metadata": {},
   "source": [
    "#### 2.11.2 Tích giữa một ma trận và một vector\n",
    "Trong ĐSTT, tích giữa một ma trận và một vector cột được coi là một trường hợp đặc biệt của tích giữa một ma trận và một ma trận có số cột bằng một. Khi làm việc với numpy, ma trận được mô tả bởi mảng hai chiều, vector được mô tả bởi các mảng một chiều."
   ]
  },
  {
   "cell_type": "code",
   "execution_count": 29,
   "metadata": {},
   "outputs": [
    {
     "name": "stdout",
     "output_type": "stream",
     "text": [
      "[11 35 59 83]\n"
     ]
    }
   ],
   "source": [
    "A = numpy.arange(12).reshape(4,3)\n",
    "b = numpy.array([1, 3, 4])\n",
    "print(A @ b)"
   ]
  },
  {
   "cell_type": "markdown",
   "metadata": {},
   "source": [
    "Tích của mảng hai chiều $A$ và mảng một chiều $b$ với $A.shape[1] == b.shape[0]$ theo ĐSTT được thực hiện bằng phương thức $.dot()$ của mảng numpy A. Kết quả trả về là một mảng một chiều có $shape[0] == 4$. Chúng ta cần chú ý một chút ở đây là kết quả trả về là một mảng một chiều chứ không phải một vector cột (được biểu diễn bởi một mảng hai chiều có $shape[1] = 1$) như trên lý thuyết."
   ]
  },
  {
   "cell_type": "code",
   "execution_count": 30,
   "metadata": {},
   "outputs": [
    {
     "ename": "ValueError",
     "evalue": "matmul: Input operand 1 has a mismatch in its core dimension 0, with gufunc signature (n?,k),(k,m?)->(n?,m?) (size 4 is different from 3)",
     "output_type": "error",
     "traceback": [
      "\u001b[1;31m---------------------------------------------------------------------------\u001b[0m",
      "\u001b[1;31mValueError\u001b[0m                                Traceback (most recent call last)",
      "Cell \u001b[1;32mIn[30], line 1\u001b[0m\n\u001b[1;32m----> 1\u001b[0m \u001b[38;5;28mprint\u001b[39m(\u001b[43mb\u001b[49m\u001b[43m \u001b[49m\u001b[38;5;241;43m@\u001b[39;49m\u001b[43m \u001b[49m\u001b[43mA\u001b[49m)\n",
      "\u001b[1;31mValueError\u001b[0m: matmul: Input operand 1 has a mismatch in its core dimension 0, with gufunc signature (n?,k),(k,m?)->(n?,m?) (size 4 is different from 3)"
     ]
    }
   ],
   "source": [
    "print(b @ A)"
   ]
  },
  {
   "cell_type": "markdown",
   "metadata": {},
   "source": [
    "Ta thấy rằng nếu đặt b lên trước A thì có lỗi xảy ra vì xung đột chiều. <br>\n",
    "\n",
    "**Lưu ý:**\n",
    "- Nếu mảng một chiều được nhân vào sau một mảng hai chiều, nó được coi như một vector cột. Nếu nó được nhân vào trước một mảng hai chiều, nó lại được coi là một vector hàng."
   ]
  },
  {
   "cell_type": "markdown",
   "metadata": {},
   "source": [
    "### 2.12 Softmax III - Phiên bản tổng quát\n",
    "![](./images/softmax-general.png)"
   ]
  }
 ],
 "metadata": {
  "kernelspec": {
   "display_name": "Python 3",
   "language": "python",
   "name": "python3"
  },
  "language_info": {
   "codemirror_mode": {
    "name": "ipython",
    "version": 3
   },
   "file_extension": ".py",
   "mimetype": "text/x-python",
   "name": "python",
   "nbconvert_exporter": "python",
   "pygments_lexer": "ipython3",
   "version": "3.13.0"
  }
 },
 "nbformat": 4,
 "nbformat_minor": 2
}
