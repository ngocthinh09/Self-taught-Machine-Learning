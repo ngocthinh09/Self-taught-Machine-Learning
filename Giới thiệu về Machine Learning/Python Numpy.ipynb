{
 "cells": [
  {
   "cell_type": "markdown",
   "metadata": {
    "colab_type": "text",
    "id": "view-in-github"
   },
   "source": [
    "<a href=\"https://colab.research.google.com/github/ngocthinh09/Machine_Learning/blob/main/Gi%E1%BB%9Bi%20thi%E1%BB%87u%20v%E1%BB%81%20Machine%20Learning/Python%20Numpy.ipynb\" target=\"_parent\"><img src=\"https://colab.research.google.com/assets/colab-badge.svg\" alt=\"Open In Colab\"/></a>"
   ]
  },
  {
   "cell_type": "markdown",
   "metadata": {
    "id": "AkVDcjzZB2e0"
   },
   "source": [
    "<img src=\"https://github.com/ngocthinh09/Machine_Learning/blob/main/Gi%E1%BB%9Bi%20thi%E1%BB%87u%20v%E1%BB%81%20Machine%20Learning/images/numpy/numpy.png?raw=1\" style=\"width:50%;height:50%;\">"
   ]
  },
  {
   "cell_type": "markdown",
   "metadata": {
    "id": "nEtJAPwMB2e3"
   },
   "source": [
    "### 1. Giới thiệu\n",
    "Numpy là một thư viện của Python hỗ trợ việc tính toán trên mảng nhiều chiều. Một mảng Numpy là một tập hợp các giá trị cùng kiểu dữ liệu và được đánh số bằng các số nguyên dương. Numpy là Module quan trọng cho việc sử lý dữ liệu và có thể chuyển đổi qua kiểu dữ liệu Tensor trong Tensorflow và Pytorch.\n",
    "\n",
    "Mọi chi tiết về Numpy đều được công bố trên trang chủ chính thức: https://numpy.org/doc/\n",
    "\n",
    "Các bạn có thể cài đặt Numpy theo hướng dẫn dưới đây:\n",
    "- [Dành cho máy Mac và Linux](https://machinelearningcoban.com/faqs/#-huong-dan-cai-dat-python-va-cac-thu-vien-tren-macos)\n",
    "- [Dành cho Windows](https://machinelearningcoban.com/faqs/#-huong-dan-cai-dat-python-va-cac-thu-vien-tren-windows)"
   ]
  },
  {
   "cell_type": "markdown",
   "metadata": {
    "id": "75rSZtlwB2e5"
   },
   "source": [
    "Sau khi cài đặt xong, chúng ta cần phải import thư viện vào để sử dụng:"
   ]
  },
  {
   "cell_type": "code",
   "execution_count": null,
   "metadata": {
    "id": "5BQngy5VB2e5"
   },
   "outputs": [],
   "source": [
    "import numpy as np"
   ]
  },
  {
   "cell_type": "markdown",
   "metadata": {
    "id": "YvB5TVI3B2e7"
   },
   "source": [
    "Từ khoá `as` trong Python giúp chúng ta viết gọn tên của thư viện giúp tiện lợi cho việc sử dụng về sau."
   ]
  },
  {
   "cell_type": "markdown",
   "metadata": {
    "id": "0yfTWR27B2e7"
   },
   "source": [
    "### 2. Nội dung\n",
    "\n",
    "Nội dung chính trong bài ngày hôm nay chúng ta sẽ cùng tìm hiểu về:\n",
    "- Tạo mảng Numpy (ndarray)\n",
    "- Kiểu dữ liệu (Datatypes)\n",
    "- Array Indexing\n",
    "- Phép toán trên mảng\n",
    "- Broadcasting"
   ]
  },
  {
   "cell_type": "markdown",
   "metadata": {
    "id": "f-ebVCPyB2e7"
   },
   "source": [
    "#### 2.1 Tạo mảng Numpy (ndarray)\n",
    "\n",
    "Tạo ndarray từ List\n",
    "\n"
   ]
  },
  {
   "cell_type": "code",
   "execution_count": null,
   "metadata": {
    "id": "Q4GYhXtCB2e8",
    "outputId": "94e81729-e40f-47d8-fbb5-fd87142f2023"
   },
   "outputs": [
    {
     "name": "stdout",
     "output_type": "stream",
     "text": [
      "[1 2 3]\n",
      "1 2\n"
     ]
    }
   ],
   "source": [
    "# Tạo ndarray từ list\n",
    "\n",
    "import numpy as np\n",
    "\n",
    "# tạo list\n",
    "l = list(range(1, 4))\n",
    "\n",
    "# tạo ndarray\n",
    "data = np.array(l)\n",
    "\n",
    "print(data)\n",
    "print(data[0], data[1])"
   ]
  },
  {
   "cell_type": "markdown",
   "metadata": {
    "id": "EWjSzwygB2e9"
   },
   "source": [
    "<img src=\"https://github.com/ngocthinh09/Machine_Learning/blob/main/Gi%E1%BB%9Bi%20thi%E1%BB%87u%20v%E1%BB%81%20Machine%20Learning/images/numpy/chap5_np_1.png?raw=1\" style=\"width:20%;height:20%;\">\n"
   ]
  },
  {
   "cell_type": "markdown",
   "metadata": {
    "id": "KSDP1iXcB2e-"
   },
   "source": [
    "Sử dụng thuộc tính `shape` và hàm `type()` cho mảng Numpy"
   ]
  },
  {
   "cell_type": "code",
   "execution_count": null,
   "metadata": {
    "id": "tdUcoZxQB2e-",
    "outputId": "b5c4342b-c0bc-4668-dc33-31488404cb6e"
   },
   "outputs": [
    {
     "name": "stdout",
     "output_type": "stream",
     "text": [
      "[1 2 3]\n",
      "<class 'numpy.ndarray'>\n",
      "<class 'numpy.int64'>\n",
      "(3,)\n"
     ]
    }
   ],
   "source": [
    "# Tạo ndarray từ list\n",
    "\n",
    "import numpy as np\n",
    "\n",
    "# tạo list\n",
    "l = list(range(1, 4))\n",
    "\n",
    "# tạo ndarray\n",
    "data = np.array(l)\n",
    "\n",
    "print(data)\n",
    "print(type(data))\n",
    "print(type(data[0]))\n",
    "print(data.shape)"
   ]
  },
  {
   "cell_type": "markdown",
   "metadata": {
    "id": "Ben7ltcKB2e_"
   },
   "source": [
    "Thay đổi `shape` của mảng sử dụng `reshape`"
   ]
  },
  {
   "cell_type": "code",
   "execution_count": null,
   "metadata": {
    "id": "FYlAS9bHB2e_",
    "outputId": "a7110437-d252-4e0c-a352-6b00551a3607"
   },
   "outputs": [
    {
     "name": "stdout",
     "output_type": "stream",
     "text": [
      "(12,)\n",
      "(3, 4)\n"
     ]
    }
   ],
   "source": [
    "# thay đổi shape của một mảng\n",
    "\n",
    "import numpy as np\n",
    "\n",
    "arr1 = np.arange(12)\n",
    "print(arr1.shape)\n",
    "\n",
    "arr2 = arr1.reshape((3, 4))\n",
    "print(arr2.shape)"
   ]
  },
  {
   "cell_type": "markdown",
   "metadata": {
    "id": "jIN-nB3bB2e_"
   },
   "source": [
    "Thay đổi giá trị của một phần tử\n",
    "\n"
   ]
  },
  {
   "cell_type": "code",
   "execution_count": null,
   "metadata": {
    "id": "YAthV29-B2e_",
    "outputId": "dbcd76b8-aaa0-4d29-aabf-910337c56388"
   },
   "outputs": [
    {
     "name": "stdout",
     "output_type": "stream",
     "text": [
      "[1 2 3]\n",
      "[8 2 3]\n"
     ]
    }
   ],
   "source": [
    "# thay đổi giá trị phần tử\n",
    "\n",
    "import numpy as np\n",
    "\n",
    "l = list(range(1, 4))\n",
    "data = np.array(l)\n",
    "print(data)\n",
    "\n",
    "data[0] = 8\n",
    "print(data)"
   ]
  },
  {
   "cell_type": "markdown",
   "metadata": {
    "id": "GkHm9HWkB2fA"
   },
   "source": [
    "<img src=\"https://github.com/ngocthinh09/Machine_Learning/blob/main/Gi%E1%BB%9Bi%20thi%E1%BB%87u%20v%E1%BB%81%20Machine%20Learning/images/numpy/chap5_np_2.png?raw=1\" style=\"width:20%;height:20%;\">\n"
   ]
  },
  {
   "cell_type": "markdown",
   "metadata": {
    "id": "oRquM5-HB2fA"
   },
   "source": [
    "Tạo ndarray với hàm `zeros()`"
   ]
  },
  {
   "cell_type": "code",
   "execution_count": null,
   "metadata": {
    "id": "ezJitHJWB2fA",
    "outputId": "02824ee4-aa77-4291-c937-05f58af96ea3"
   },
   "outputs": [
    {
     "name": "stdout",
     "output_type": "stream",
     "text": [
      "[[0. 0. 0.]\n",
      " [0. 0. 0.]]\n"
     ]
    }
   ],
   "source": [
    "# tạo một numpy array với tất cả các phần tử là 0\n",
    "\n",
    "import numpy as np\n",
    "\n",
    "# shape: 2 dòng, 3 cột\n",
    "arr = np.zeros((2, 3))\n",
    "print(arr)"
   ]
  },
  {
   "cell_type": "markdown",
   "metadata": {
    "id": "woTNyuEMB2fB"
   },
   "source": [
    "<img src=\"https://github.com/ngocthinh09/Machine_Learning/blob/main/Gi%E1%BB%9Bi%20thi%E1%BB%87u%20v%E1%BB%81%20Machine%20Learning/images/numpy/chap5_np_3.png?raw=1\" style=\"width:20%;height:20%;\">\n"
   ]
  },
  {
   "cell_type": "markdown",
   "metadata": {
    "id": "wxjKU5ZkB2fB"
   },
   "source": [
    "Tạo ndarray với hàm `ones()`"
   ]
  },
  {
   "cell_type": "code",
   "execution_count": null,
   "metadata": {
    "id": "EMbVlU2kB2fB",
    "outputId": "8ac69199-9ada-404e-e0d7-c13c7d50f5c2"
   },
   "outputs": [
    {
     "name": "stdout",
     "output_type": "stream",
     "text": [
      "[[1. 1. 1.]\n",
      " [1. 1. 1.]]\n"
     ]
    }
   ],
   "source": [
    "# tạo một numpy array với tất cả phần tử là 1\n",
    "\n",
    "import numpy as np\n",
    "\n",
    "# numpy.ones(shape, dtype=None, order='C')\n",
    "# shape: 2 dòng, 3 cột\n",
    "arr = np.ones((2, 3))\n",
    "print(arr)"
   ]
  },
  {
   "cell_type": "markdown",
   "metadata": {
    "id": "gYtDH7lxB2fB"
   },
   "source": [
    "<img src=\"https://github.com/ngocthinh09/Machine_Learning/blob/main/Gi%E1%BB%9Bi%20thi%E1%BB%87u%20v%E1%BB%81%20Machine%20Learning/images/numpy/chap5_np_4.png?raw=1\" style=\"width:20%;height:20%;\">\n"
   ]
  },
  {
   "cell_type": "markdown",
   "metadata": {
    "id": "Ty5YrQcTB2fC"
   },
   "source": [
    "Tạo ndarray với hàm `full()`"
   ]
  },
  {
   "cell_type": "code",
   "execution_count": null,
   "metadata": {
    "id": "SNZSJMBMB2fC",
    "outputId": "f1077259-79b1-4d22-a42e-08a2780daf37"
   },
   "outputs": [
    {
     "name": "stdout",
     "output_type": "stream",
     "text": [
      "[[9 9 9]\n",
      " [9 9 9]]\n"
     ]
    }
   ],
   "source": [
    "# tạo một numpy array với tất cả phần tử là hằng số K\n",
    "\n",
    "import numpy as np\n",
    "\n",
    "# numpy.full(shape, fill_value, dtype=None, order='C')\n",
    "# shape: 2 dòng, 3 cột - với K = 9\n",
    "arr = np.full((2, 3), 9)\n",
    "print(arr)"
   ]
  },
  {
   "cell_type": "markdown",
   "metadata": {
    "id": "62bb8gT3B2fD"
   },
   "source": [
    "<img src=\"https://github.com/ngocthinh09/Machine_Learning/blob/main/Gi%E1%BB%9Bi%20thi%E1%BB%87u%20v%E1%BB%81%20Machine%20Learning/images/numpy/chap5_np_5.png?raw=1\" style=\"width:20%;height:20%;\">\n"
   ]
  },
  {
   "cell_type": "markdown",
   "metadata": {
    "id": "oaiBJfRKB2fD"
   },
   "source": [
    "Tạo ma trận đường chéo"
   ]
  },
  {
   "cell_type": "code",
   "execution_count": null,
   "metadata": {
    "id": "CkNFvDENB2fD",
    "outputId": "864f64b9-07f6-4a22-f42e-7f837a3aa9e3"
   },
   "outputs": [
    {
     "name": "stdout",
     "output_type": "stream",
     "text": [
      "[[1. 0. 0.]\n",
      " [0. 1. 0.]\n",
      " [0. 0. 1.]]\n"
     ]
    }
   ],
   "source": [
    "# tạo một numpy array với đường chéo là số 1\n",
    "# số 0 được điền vào những ô phần tử còn lại\n",
    "\n",
    "import numpy as np\n",
    "\n",
    "# numpy.eye(N, M=None, k=0, dtype=<class 'float'>, order='C')\n",
    "# shape: 2 dòng, 3 cột\n",
    "arr = np.eye(3)\n",
    "print(arr)\n"
   ]
  },
  {
   "cell_type": "markdown",
   "metadata": {
    "id": "HcDOTW3EB2fD"
   },
   "source": [
    "<img src=\"https://github.com/ngocthinh09/Machine_Learning/blob/main/Gi%E1%BB%9Bi%20thi%E1%BB%87u%20v%E1%BB%81%20Machine%20Learning/images/numpy/chap5_np_6.png?raw=1\" style=\"width:20%;height:20%;\">"
   ]
  },
  {
   "cell_type": "markdown",
   "metadata": {
    "id": "DkEluPeSB2fD"
   },
   "source": [
    "Tạo một numpy array với giá trị ngẫu nhiên"
   ]
  },
  {
   "cell_type": "code",
   "execution_count": null,
   "metadata": {
    "id": "dCsx1hYhB2fE",
    "outputId": "72b43d31-f4ad-4d9f-9538-266823a91f74"
   },
   "outputs": [
    {
     "name": "stdout",
     "output_type": "stream",
     "text": [
      "[[0.55136636 0.90697043 0.80751447]\n",
      " [0.50399661 0.53732573 0.94443   ]]\n"
     ]
    }
   ],
   "source": [
    "# tạo một numpy array với giá trị ngẫu nhiên\n",
    "\n",
    "import numpy as np\n",
    "\n",
    "# numpy.random.random(size=None)\n",
    "# shape: 2 dòng, 3 cột; với phần tử có giá trị ngẫu nhiên\n",
    "\n",
    "arr = np.random.random((2,3))\n",
    "print(arr)"
   ]
  },
  {
   "cell_type": "markdown",
   "metadata": {
    "id": "DEFnyoOMB2fE"
   },
   "source": [
    "Điều kiện cho mảng numpy"
   ]
  },
  {
   "cell_type": "code",
   "execution_count": null,
   "metadata": {
    "id": "Q46AwHI9B2fF",
    "outputId": "daf70e3c-59f2-4265-d59a-e23775fce461"
   },
   "outputs": [
    {
     "name": "stdout",
     "output_type": "stream",
     "text": [
      "[0 1 2 3 4 5 6 7 8 9]\n",
      "[ 0  1  2  3  4 50 60 70 80 90]\n"
     ]
    }
   ],
   "source": [
    "import numpy as np\n",
    "\n",
    "arr = np.arange(10)\n",
    "print(arr)\n",
    "\n",
    "out = np.where(arr < 5, arr, 10*arr)\n",
    "print(out)"
   ]
  },
  {
   "cell_type": "markdown",
   "metadata": {
    "id": "vAxn3eHHB2fG"
   },
   "source": [
    "Chuyển mảng về một chiều"
   ]
  },
  {
   "cell_type": "code",
   "execution_count": null,
   "metadata": {
    "id": "4cXlUDKNB2fG",
    "outputId": "80aa5a52-2d62-4407-f508-45ef9ce845e7"
   },
   "outputs": [
    {
     "name": "stdout",
     "output_type": "stream",
     "text": [
      "[[1 2]\n",
      " [3 4]]\n",
      "[1 2 3 4]\n"
     ]
    }
   ],
   "source": [
    "import numpy as np\n",
    "\n",
    "arr = np.array([[1, 2], [3, 4]])\n",
    "out = arr.flatten()\n",
    "\n",
    "print(arr)\n",
    "print(out)"
   ]
  },
  {
   "cell_type": "markdown",
   "metadata": {
    "id": "PTYEbfRuB2fG"
   },
   "source": [
    "#### 2.2 Kiểu dữ liệu (Datatypes)\n",
    "\n",
    "Mảng numpy chứa các phần tử cùng kiểu dữ liệu. Numpy cung cấp một tập hợp các kiểu dữ liệu mà chúng có thể sử dụng để xây dựng các mảng."
   ]
  },
  {
   "cell_type": "code",
   "execution_count": null,
   "metadata": {
    "id": "szZEwr7CB2fH",
    "outputId": "a1a76be1-4ad8-447c-cc1c-268ef63e1c74"
   },
   "outputs": [
    {
     "name": "stdout",
     "output_type": "stream",
     "text": [
      "int64\n",
      "float64\n",
      "int64\n"
     ]
    }
   ],
   "source": [
    "import numpy as np\n",
    "\n",
    "# int32\n",
    "arr1 = np.array([1, 2])\n",
    "print(arr1.dtype)\n",
    "\n",
    "# float64\n",
    "arr2 = np.array([1.0, 2.0])\n",
    "print(arr2.dtype)\n",
    "\n",
    "# int64\n",
    "arr3 = np.array([1, 2], dtype = np.int64)\n",
    "print(arr3.dtype)"
   ]
  },
  {
   "cell_type": "markdown",
   "metadata": {
    "id": "svkmxv9UB2fH"
   },
   "source": [
    "#### 2.3 Array Indexing\n",
    "\n",
    "Numpy cung cấp một số cách để truy xuất phần tử trong mảng. Truy xuất phần tử dùng kỹ thuật slicing tương tự như danh sách (list) trong Python."
   ]
  },
  {
   "cell_type": "markdown",
   "metadata": {
    "id": "K0aXBvpXB2fH"
   },
   "source": [
    "**Ví dụ 1:** Lấy các phần tử từ mảng 2 chiều như sau:"
   ]
  },
  {
   "cell_type": "code",
   "execution_count": null,
   "metadata": {
    "id": "-L-a2BUQB2fH",
    "outputId": "d71ad147-2063-492f-968b-e8cba736f175"
   },
   "outputs": [
    {
     "name": "stdout",
     "output_type": "stream",
     "text": [
      "a_arr: \n",
      " [[1 2 3]\n",
      " [5 6 7]]\n",
      "b_arr: \n",
      " [[2 3]\n",
      " [6 7]]\n"
     ]
    }
   ],
   "source": [
    "import numpy as np\n",
    "\n",
    "# Khởi tạo numpy array có shape = (2, 3) có giá trị như sau:\n",
    "# [[ 1 2 3]\n",
    "#  [ 4 6 7]]\n",
    "a_arr = np.array([[1,2,3],[5,6,7]])\n",
    "print('a_arr: \\n', a_arr)\n",
    "\n",
    "# Sử dụng slicing để tạo mảng b bằng cách lấy 2 hàng đầu tiên\n",
    "# và cột 1, 2. Như vậy b sẽ có shape = (2, 3):\n",
    "# [[2 3]\n",
    "#  [6 7]]\n",
    "b_arr = a_arr[:, 1:3]\n",
    "print('b_arr: \\n', b_arr)"
   ]
  },
  {
   "cell_type": "markdown",
   "metadata": {
    "id": "TnUW3tDhB2fJ"
   },
   "source": [
    "<img src=\"https://github.com/ngocthinh09/Machine_Learning/blob/main/Gi%E1%BB%9Bi%20thi%E1%BB%87u%20v%E1%BB%81%20Machine%20Learning/images/numpy/chap5_np_9.png?raw=1\" style=\"width:30%;height:30%;\">"
   ]
  },
  {
   "cell_type": "markdown",
   "metadata": {
    "id": "Phgk1-cKB2fJ"
   },
   "source": [
    "Việc một mảng mới được tạo ra từ Slicing sẽ có **cùng địa chỉ** với mảng gốc. Nếu thay đổi một trong hai mảng này thì mảng còn lại cũng thay đổi theo."
   ]
  },
  {
   "cell_type": "code",
   "execution_count": null,
   "metadata": {
    "id": "Ky-d8gF6B2fJ",
    "outputId": "c6fb1eb4-5b2b-4753-bd75-4a00b08bfbf4"
   },
   "outputs": [
    {
     "name": "stdout",
     "output_type": "stream",
     "text": [
      "a_arr: \n",
      " [[1 2 3]\n",
      " [5 6 7]]\n",
      "b_arr: \n",
      " [[2 3]\n",
      " [6 7]]\n",
      "Truoc khi thay doi: \n",
      " 2\n",
      "Sau khi thay doi: \n",
      " 99\n"
     ]
    }
   ],
   "source": [
    "import numpy as np\n",
    "\n",
    "# Khởi tạo numpy array có shape = (2, 3) có giá trị như sau:\n",
    "# [[ 1 2 3]\n",
    "#  [ 4 6 7]]\n",
    "a_arr = np.array([[1,2,3],[5,6,7]])\n",
    "print('a_arr: \\n', a_arr)\n",
    "\n",
    "# Sử dụng slicing để tạo mảng b bằng cách lấy 2 hàng đầu tiên\n",
    "# và cột 1, 2. Như vậy b sẽ có shape = (2, 3):\n",
    "# [[2 3]\n",
    "#  [6 7]]\n",
    "b_arr = a_arr[:, 1:3]\n",
    "print('b_arr: \\n', b_arr)\n",
    "\n",
    "print('Truoc khi thay doi: \\n', a_arr[0, 1])\n",
    "b_arr[0, 0] = 99\n",
    "print('Sau khi thay doi: \\n', a_arr[0, 1])"
   ]
  },
  {
   "cell_type": "markdown",
   "metadata": {
    "id": "r0OS12f_B2fK"
   },
   "source": [
    "<img src=\"https://github.com/ngocthinh09/Machine_Learning/blob/main/Gi%E1%BB%9Bi%20thi%E1%BB%87u%20v%E1%BB%81%20Machine%20Learning/images/numpy/chap5_np_10.png?raw=1\"  style=\"width:40%;height:40%;\">"
   ]
  },
  {
   "cell_type": "markdown",
   "metadata": {
    "id": "zamzxrS4B2fK"
   },
   "source": [
    "**Ví dụ 2:** Lấy một dòng dữ liệu"
   ]
  },
  {
   "cell_type": "code",
   "execution_count": null,
   "metadata": {
    "id": "4sczijH0B2fK",
    "outputId": "3d86cf64-1747-4817-c169-0d7eaab87713"
   },
   "outputs": [
    {
     "name": "stdout",
     "output_type": "stream",
     "text": [
      "[5 6 7] (3,)\n",
      "[[5 6 7]] (1, 3)\n"
     ]
    }
   ],
   "source": [
    "import numpy as np\n",
    "\n",
    "# Tạo một numpy array có shape (3, 4) với giá trị như sau:\n",
    "# [[ 1 2 3 ]\n",
    "#  [ 5 6 7 ]\n",
    "#  [ 9 10 11 ]]\n",
    "arr = np.array([[1, 2, 3], [5, 6, 7], [9, 10, 11]])\n",
    "\n",
    "# Hai cách truy cập dữ liệu ở hàng giữa của mảng\n",
    "# Cách 1: Dùng kết hợp chỉ số và slice -> được array mới có số chiều thấp hơn\n",
    "# Cách 2: Nếu chỉ dùng slice ta sẽ có array mới có cùng số chiều với array gốc\n",
    "\n",
    "# Cách 1: số chiều giảm\n",
    "row_r1 = arr[1, :]\n",
    "\n",
    "# Cách 2: số chiều được giữ nguyên\n",
    "row_r2 = arr[1:2, :]\n",
    "\n",
    "print(row_r1, row_r1.shape)\n",
    "print(row_r2, row_r2.shape)"
   ]
  },
  {
   "cell_type": "markdown",
   "metadata": {
    "id": "lhxyJd54B2fK"
   },
   "source": [
    "<img src=\"https://github.com/ngocthinh09/Machine_Learning/blob/main/Gi%E1%BB%9Bi%20thi%E1%BB%87u%20v%E1%BB%81%20Machine%20Learning/images/numpy/chap5_np_11.png?raw=1\" style=\"width:40%;height:40%;\">"
   ]
  },
  {
   "cell_type": "markdown",
   "metadata": {
    "id": "4B3wblOmB2fL"
   },
   "source": [
    "**Ví dụ 3:** Lấy một cột dữ liệu"
   ]
  },
  {
   "cell_type": "code",
   "execution_count": null,
   "metadata": {
    "id": "GrOhZWqEB2fL",
    "outputId": "3e21b88f-1f09-47b4-873c-2f670f3eaceb"
   },
   "outputs": [
    {
     "name": "stdout",
     "output_type": "stream",
     "text": [
      "[ 2  6 10] (3,)\n",
      "[[ 2]\n",
      " [ 6]\n",
      " [10]] (3, 1)\n"
     ]
    }
   ],
   "source": [
    "import numpy as np\n",
    "\n",
    "# Tạo một numpy array có shape (3, 4) với giá trị như sau:\n",
    "# [[ 1 2 3 ]\n",
    "#  [ 5 6 7 ]\n",
    "#  [ 9 10 11 ]]\n",
    "arr = np.array([[1, 2, 3], [5, 6, 7], [9, 10, 11]])\n",
    "\n",
    "# Hai cách truy cập dữ liệu ở cột giữa của mảng\n",
    "# Cách 1: Dùng kết hợp chỉ số và slice -> được array mới có số chiều thấp hơn\n",
    "# Cách 2: Nếu chỉ dùng slice ta sẽ có array mới có cùng số chiều với array gốc\n",
    "\n",
    "# Cách 1: số chiều giảm\n",
    "col_r1 = arr[:, 1]\n",
    "\n",
    "# Cách 2: số chiều được giữ nguyên\n",
    "col_r2 = arr[:, 1:2]\n",
    "\n",
    "print(col_r1, col_r1.shape)\n",
    "print(col_r2, col_r2.shape)"
   ]
  },
  {
   "cell_type": "markdown",
   "metadata": {
    "id": "qDvAfMRvB2fL"
   },
   "source": [
    "<img src=\"https://github.com/ngocthinh09/Machine_Learning/blob/main/Gi%E1%BB%9Bi%20thi%E1%BB%87u%20v%E1%BB%81%20Machine%20Learning/images/numpy/chap5_np_13.png?raw=1\" style=\"width:30%;height:30%;\">"
   ]
  },
  {
   "cell_type": "markdown",
   "metadata": {
    "id": "x-WYdZ79B2fM"
   },
   "source": [
    "**Boolean indexing:** Cho phép chúng ta chọn ra các phần tử tùy ý của một mảng. Kiểu truy xuất này thường được sử dụng để chọn ra các phần tử thỏa mãn điều kiện nào đó."
   ]
  },
  {
   "cell_type": "markdown",
   "metadata": {
    "id": "6mTLjUteB2fM"
   },
   "source": [
    "**Ví dụ 4:** Tìm các vị trí thoả mãn điều kiện"
   ]
  },
  {
   "cell_type": "code",
   "execution_count": null,
   "metadata": {
    "id": "eEjVgDh_B2fM",
    "outputId": "01aac61a-4932-4595-ca46-5baf0ccf73a4"
   },
   "outputs": [
    {
     "name": "stdout",
     "output_type": "stream",
     "text": [
      "[[1 2]\n",
      " [3 4]\n",
      " [5 6]]\n",
      "[[False False]\n",
      " [ True  True]\n",
      " [ True  True]]\n"
     ]
    }
   ],
   "source": [
    "import numpy as np\n",
    "\n",
    "a_arr = np.array([[1, 2], [3, 4], [5, 6]])\n",
    "print(a_arr)\n",
    "\n",
    "# Tìm các phần tử lớn hơn 2\n",
    "# Trả về 1 mảng Boolean có số chiều như mảng a_arr\n",
    "# và giá trị tại mỗi phần từ là True nếu phần tử của a tại đó > 2,\n",
    "# False cho trường hợp ngược lại\n",
    "\n",
    "bool_idx = (a_arr > 2)\n",
    "print(bool_idx)"
   ]
  },
  {
   "cell_type": "markdown",
   "metadata": {
    "id": "u7ZUmbyGB2fM"
   },
   "source": [
    "<img src=\"https://github.com/ngocthinh09/Machine_Learning/blob/main/Gi%E1%BB%9Bi%20thi%E1%BB%87u%20v%E1%BB%81%20Machine%20Learning/images/numpy/chap5_np_15.png?raw=1\" style=\"width:30%;height:30%;\">"
   ]
  },
  {
   "cell_type": "markdown",
   "metadata": {
    "id": "HyBeh6jCB2fN"
   },
   "source": [
    "**Ví dụ 5:** Tìm các vị trí thoả mãn điều kiện và lấy phần tử tương ứng"
   ]
  },
  {
   "cell_type": "code",
   "execution_count": null,
   "metadata": {
    "id": "LrI2MainB2fN",
    "outputId": "1a8d0699-faeb-43d5-b9c1-821163c0f308"
   },
   "outputs": [
    {
     "name": "stdout",
     "output_type": "stream",
     "text": [
      "[[1 2]\n",
      " [3 4]\n",
      " [5 6]]\n",
      "bool_idx: \n",
      " [[False False]\n",
      " [ True  True]\n",
      " [ True  True]]\n",
      "\n",
      "Method 1:\n",
      " [3 4 5 6]\n",
      "\n",
      "Method 2:\n",
      " [3 4 5 6]\n"
     ]
    }
   ],
   "source": [
    "import numpy as np\n",
    "\n",
    "a_arr = np.array([[1, 2], [3, 4], [5, 6]])\n",
    "print(a_arr)\n",
    "\n",
    "# Tìm các phần tử lớn hơn 2\n",
    "# Trả về 1 mảng Boolean có số chiều như mảng a_arr\n",
    "# và giá trị tại mỗi phần từ là True nếu phần tử của a tại đó > 2,\n",
    "# False cho trường hợp ngược lại\n",
    "\n",
    "bool_idx = (a_arr > 2)\n",
    "print('bool_idx: \\n', bool_idx)\n",
    "\n",
    "# Chúng ta sẽ sử dụng boolean array indexing để xây dựng mảng 1 chiều\n",
    "# Bao gồm các phần tử tương ứng với giá trị True của bool_idx\n",
    "\n",
    "# Ví dụ ở đây in ra các giá trị của a_arr >2, sử dụng array bool_idx đã tạo\n",
    "out = a_arr[bool_idx]\n",
    "print('\\nMethod 1:\\n', out)\n",
    "\n",
    "# một cách ngắn gọn hơn\n",
    "print('\\nMethod 2:\\n', a_arr[a_arr > 2])"
   ]
  },
  {
   "cell_type": "markdown",
   "metadata": {
    "id": "sYY2xkKMB2fN"
   },
   "source": [
    "<img src=\"https://github.com/ngocthinh09/Machine_Learning/blob/main/Gi%E1%BB%9Bi%20thi%E1%BB%87u%20v%E1%BB%81%20Machine%20Learning/images/numpy/chap5_np_16.png?raw=1\" style=\"width:50%;height:50%;\">"
   ]
  },
  {
   "cell_type": "markdown",
   "metadata": {
    "id": "SkaoRpkwB2fO"
   },
   "source": [
    "#### 2.4 Phép toán trên mảng"
   ]
  },
  {
   "cell_type": "markdown",
   "metadata": {
    "id": "F3eBL-KIB2fO"
   },
   "source": [
    "Phép cộng giữa hai mảng"
   ]
  },
  {
   "cell_type": "code",
   "execution_count": null,
   "metadata": {
    "id": "saCTYEvBB2fO",
    "outputId": "85d4ff8f-2f74-4341-90e5-800eeab12659"
   },
   "outputs": [
    {
     "name": "stdout",
     "output_type": "stream",
     "text": [
      "[[ 6.  8.]\n",
      " [10. 12.]]\n",
      "[[ 6.  8.]\n",
      " [10. 12.]]\n"
     ]
    }
   ],
   "source": [
    "import numpy as np\n",
    "\n",
    "x = np.array([[1,2],[3,4]], dtype=np.float64)\n",
    "y = np.array([[5,6],[7,8]], dtype=np.float64)\n",
    "\n",
    "# Tổng của 2 mảng, cả 2 cách đều cho cùng một kết quả\n",
    "# [[ 6.0  8.0]\n",
    "#  [10.0 12.0]]\n",
    "print(x + y)\n",
    "print(np.add(x, y))"
   ]
  },
  {
   "cell_type": "markdown",
   "metadata": {
    "id": "IiDzD7mGB2fP"
   },
   "source": [
    "<img src=\"https://github.com/ngocthinh09/Machine_Learning/blob/main/Gi%E1%BB%9Bi%20thi%E1%BB%87u%20v%E1%BB%81%20Machine%20Learning/images/numpy/chap5_np_18.png?raw=1\" style=\"width:30%;height:30%;\">"
   ]
  },
  {
   "cell_type": "markdown",
   "metadata": {
    "id": "WcmN9DREB2fP"
   },
   "source": [
    "Phép trừ giữa hai mảng"
   ]
  },
  {
   "cell_type": "code",
   "execution_count": null,
   "metadata": {
    "id": "-90DqOEAB2fP",
    "outputId": "a4efdf2a-e426-4279-cb11-50a01df5b930"
   },
   "outputs": [
    {
     "name": "stdout",
     "output_type": "stream",
     "text": [
      "[[-4. -4.]\n",
      " [-4. -4.]]\n",
      "[[-4. -4.]\n",
      " [-4. -4.]]\n"
     ]
    }
   ],
   "source": [
    "import numpy as np\n",
    "\n",
    "x = np.array([[1,2],[3,4]], dtype=np.float64)\n",
    "y = np.array([[5,6],[7,8]], dtype=np.float64)\n",
    "\n",
    "# Phép trừ của 2 mảng, cả 2 cách đều cho cùng một kết quả\n",
    "# [[-4.0 -4.0]\n",
    "#  [-4.0 -4.0]]\n",
    "print(x - y)\n",
    "print(np.subtract(x, y))"
   ]
  },
  {
   "cell_type": "markdown",
   "metadata": {
    "id": "_p94hsBXB2fP"
   },
   "source": [
    "<img src=\"https://github.com/ngocthinh09/Machine_Learning/blob/main/Gi%E1%BB%9Bi%20thi%E1%BB%87u%20v%E1%BB%81%20Machine%20Learning/images/numpy/chap5_np_19.png?raw=1\" style=\"width:30%;height:30%;\">"
   ]
  },
  {
   "cell_type": "markdown",
   "metadata": {
    "id": "GhaX8TeqB2fP"
   },
   "source": [
    "Phép nhân giữa hai mảng"
   ]
  },
  {
   "cell_type": "code",
   "execution_count": null,
   "metadata": {
    "id": "RySQJVgvB2fQ",
    "outputId": "4113811f-a6a1-4375-aea2-9c02ff1f466a"
   },
   "outputs": [
    {
     "name": "stdout",
     "output_type": "stream",
     "text": [
      "[[ 5. 12.]\n",
      " [21. 32.]]\n",
      "[[ 5. 12.]\n",
      " [21. 32.]]\n"
     ]
    }
   ],
   "source": [
    "import numpy as np\n",
    "\n",
    "x = np.array([[1,2],[3,4]], dtype=np.float64)\n",
    "y = np.array([[5,6],[7,8]], dtype=np.float64)\n",
    "\n",
    "# Phép nhân\n",
    "# [[ 5.0 12.0]\n",
    "#  [21.0 32.0]]\n",
    "print(x * y)\n",
    "print(np.multiply(x, y))"
   ]
  },
  {
   "cell_type": "markdown",
   "metadata": {
    "id": "H5or2m9kB2fQ"
   },
   "source": [
    "<img src=\"https://github.com/ngocthinh09/Machine_Learning/blob/main/Gi%E1%BB%9Bi%20thi%E1%BB%87u%20v%E1%BB%81%20Machine%20Learning/images/numpy/chap5_np_20.png?raw=1\" style=\"width:30%;height:30%;\">"
   ]
  },
  {
   "cell_type": "markdown",
   "metadata": {
    "id": "ZKdoL4juB2fQ"
   },
   "source": [
    "Phép chia giữa hai mảng"
   ]
  },
  {
   "cell_type": "code",
   "execution_count": null,
   "metadata": {
    "id": "tFXDsTUpB2fQ",
    "outputId": "ea026525-5809-4090-f3c8-f12911cc1dcb"
   },
   "outputs": [
    {
     "name": "stdout",
     "output_type": "stream",
     "text": [
      "[[0.2        0.33333333]\n",
      " [0.42857143 0.5       ]]\n",
      "[[0.2        0.33333333]\n",
      " [0.42857143 0.5       ]]\n"
     ]
    }
   ],
   "source": [
    "import numpy as np\n",
    "\n",
    "x = np.array([[1,2],[3,4]], dtype=np.float64)\n",
    "y = np.array([[5,6],[7,8]], dtype=np.float64)\n",
    "\n",
    "# Phép chia\n",
    "# [[ 0.2         0.33333333]\n",
    "#  [ 0.42857143  0.5       ]]\n",
    "print(x / y)\n",
    "print(np.divide(x, y))"
   ]
  },
  {
   "cell_type": "markdown",
   "metadata": {
    "id": "Crm0t-5TB2fR"
   },
   "source": [
    "<img src=\"https://github.com/ngocthinh09/Machine_Learning/blob/main/Gi%E1%BB%9Bi%20thi%E1%BB%87u%20v%E1%BB%81%20Machine%20Learning/images/numpy/chap5_np_21.png?raw=1\" style=\"width:30%;height:30%;\">"
   ]
  },
  {
   "cell_type": "markdown",
   "metadata": {
    "id": "6WPS6L8xB2fR"
   },
   "source": [
    "Tính căn bậc 2 cho từng phần tử"
   ]
  },
  {
   "cell_type": "code",
   "execution_count": null,
   "metadata": {
    "id": "3no5Uv7zB2fS",
    "outputId": "d3cfa592-0ac0-459c-d012-9e5e4b1866ab"
   },
   "outputs": [
    {
     "name": "stdout",
     "output_type": "stream",
     "text": [
      "[[1.         1.41421356]\n",
      " [1.73205081 2.        ]]\n"
     ]
    }
   ],
   "source": [
    "import numpy as np\n",
    "\n",
    "x = np.array([[1,2],[3,4]], dtype=np.float64)\n",
    "y = np.array([[5,6],[7,8]], dtype=np.float64)\n",
    "\n",
    "# Phép lấy căn\n",
    "# [[ 1.          1.41421356]\n",
    "#  [ 1.73205081  2.        ]]\n",
    "print(np.sqrt(x))"
   ]
  },
  {
   "cell_type": "markdown",
   "metadata": {
    "id": "DoHbSZvaB2fT"
   },
   "source": [
    "Nhân giữa hai vector (inner product)"
   ]
  },
  {
   "cell_type": "code",
   "execution_count": null,
   "metadata": {
    "id": "3myB0F4lB2fU",
    "outputId": "ff74307b-adc9-46f1-f056-ce2079e2e38d"
   },
   "outputs": [
    {
     "name": "stdout",
     "output_type": "stream",
     "text": [
      "219\n",
      "219\n"
     ]
    }
   ],
   "source": [
    "import numpy as np\n",
    "\n",
    "v = np.array([9,10])\n",
    "w = np.array([11, 12])\n",
    "\n",
    "# Nhân giữa 2 vector, cả 2 đều cho kết quả 219\n",
    "print(v.dot(w))\n",
    "print(np.dot(v, w))"
   ]
  },
  {
   "cell_type": "markdown",
   "metadata": {
    "id": "Ad90BpkCB2fU"
   },
   "source": [
    "Nhân giữa vector và ma trận"
   ]
  },
  {
   "cell_type": "code",
   "execution_count": null,
   "metadata": {
    "id": "eoXzEK4yB2fV",
    "outputId": "8e15107d-ada9-4642-919a-0a9c30f00611"
   },
   "outputs": [
    {
     "name": "stdout",
     "output_type": "stream",
     "text": [
      "[29 67]\n",
      "[29 67]\n"
     ]
    }
   ],
   "source": [
    "import numpy as np\n",
    "\n",
    "X = np.array([[1,2],[3,4]])\n",
    "v = np.array([9,10])\n",
    "\n",
    "# Nhân giữa Matrix và vector, cả 2 đều cho kết quả array [29 67]\n",
    "print(X.dot(v))\n",
    "print(np.dot(X, v))"
   ]
  },
  {
   "cell_type": "markdown",
   "metadata": {
    "id": "uqL7vqkSB2fV"
   },
   "source": [
    "Nhân giữa matrix và matrix"
   ]
  },
  {
   "cell_type": "code",
   "execution_count": null,
   "metadata": {
    "id": "MskoNL8mB2fV",
    "outputId": "4cd7cd1a-2336-490e-d53c-68f8f36b3971"
   },
   "outputs": [
    {
     "name": "stdout",
     "output_type": "stream",
     "text": [
      "[[19 22]\n",
      " [43 50]]\n",
      "[[19 22]\n",
      " [43 50]]\n"
     ]
    }
   ],
   "source": [
    "import numpy as np\n",
    "\n",
    "X = np.array([[1,2],[3,4]])\n",
    "Y = np.array([[5,6],[7,8]])\n",
    "\n",
    "# Nhân giữa matrix và matrix; cả 2 cách đều cho cùng kết quả\n",
    "# [[19 22]\n",
    "#  [43 50]]\n",
    "print(X.dot(Y))\n",
    "print(np.dot(X, Y))"
   ]
  },
  {
   "cell_type": "markdown",
   "metadata": {
    "id": "suKbMeMrB2fW"
   },
   "source": [
    "Tính tổng cho một mảng numpy"
   ]
  },
  {
   "cell_type": "code",
   "execution_count": null,
   "metadata": {
    "id": "p0TQ026-B2fW",
    "outputId": "8ecd9f7a-634f-46ff-a67d-12f9ddb7fc5d"
   },
   "outputs": [
    {
     "name": "stdout",
     "output_type": "stream",
     "text": [
      "10\n",
      "[4 6]\n",
      "[3 7]\n"
     ]
    }
   ],
   "source": [
    "import numpy as np\n",
    "\n",
    "x = np.array([[1,2],[3,4]])\n",
    "\n",
    "# Tổng các phần tử của mảng; prints \"10\"\n",
    "print(np.sum(x))\n",
    "\n",
    "# Tính tổng theo từng cột\n",
    "print(np.sum(x, axis=0))\n",
    "\n",
    "# Tính tổng theo từng hàng\n",
    "print(np.sum(x, axis=1))"
   ]
  },
  {
   "cell_type": "markdown",
   "metadata": {
    "id": "Ra-heqGyB2fW"
   },
   "source": [
    "<img src=\"https://github.com/ngocthinh09/Machine_Learning/blob/main/Gi%E1%BB%9Bi%20thi%E1%BB%87u%20v%E1%BB%81%20Machine%20Learning/images/numpy/chap5_np_27.png?raw=1\" style=\"width:30%;height:30%;\">"
   ]
  },
  {
   "cell_type": "markdown",
   "metadata": {
    "id": "eH-qeq1ZB2fW"
   },
   "source": [
    "Chuyển vị cho một ma trận"
   ]
  },
  {
   "cell_type": "code",
   "execution_count": null,
   "metadata": {
    "id": "2w_5pPW-B2fX",
    "outputId": "8aaa4f70-b964-4e9a-a799-63721607dcb7"
   },
   "outputs": [
    {
     "name": "stdout",
     "output_type": "stream",
     "text": [
      "[[1 2]\n",
      " [3 4]]\n",
      "[[1 3]\n",
      " [2 4]]\n"
     ]
    }
   ],
   "source": [
    "import numpy as np\n",
    "\n",
    "x = np.array([[1,2], [3,4]])\n",
    "print(x)    # Prints \"[[1 2]\n",
    "            #          [3 4]]\"\n",
    "print(x.T)  # Prints \"[[1 3]\n",
    "            #          [2 4]]\"\n"
   ]
  },
  {
   "cell_type": "markdown",
   "metadata": {
    "id": "Ax5DHzxGB2fX"
   },
   "source": [
    "<img src=\"https://github.com/ngocthinh09/Machine_Learning/blob/main/Gi%E1%BB%9Bi%20thi%E1%BB%87u%20v%E1%BB%81%20Machine%20Learning/images/numpy/chap5_np_29.png?raw=1\" style=\"width:30%;height:30%;\">"
   ]
  },
  {
   "cell_type": "code",
   "execution_count": null,
   "metadata": {
    "id": "QrUr-S9UB2fY",
    "outputId": "84ce07cc-df65-4aad-973a-cf385e7604ff"
   },
   "outputs": [
    {
     "name": "stdout",
     "output_type": "stream",
     "text": [
      "[1 2 3]\n",
      "[1 2 3]\n"
     ]
    }
   ],
   "source": [
    "# Lưu ý rằng việc chuyển vị cho vector sẽ không làm gì cả.\n",
    "v = np.array([1,2,3])\n",
    "print(v)    # Prints \"[1 2 3]\"\n",
    "print(v.T)  # Prints \"[1 2 3]\""
   ]
  },
  {
   "cell_type": "markdown",
   "metadata": {
    "id": "elrown2vB2fY"
   },
   "source": [
    "#### 2.5 Broadcasting\n",
    "\n",
    "Broadcasting cho phép thực thi các phép toán trên các mảng có kích thước khác nhau.\n",
    "\n",
    "Ví dụ: chúng ta muốn cộng vector cho mỗi hàng của ma trận. Chúng ta có thể làm như sau:"
   ]
  },
  {
   "cell_type": "code",
   "execution_count": null,
   "metadata": {
    "id": "dlPbNgj2B2fZ",
    "outputId": "f9fd55af-5666-4b32-ca30-dbd09838da08"
   },
   "outputs": [
    {
     "name": "stdout",
     "output_type": "stream",
     "text": [
      "Matrix X: \n",
      " [[ 1  2  3]\n",
      " [ 4  5  6]\n",
      " [ 7  8  9]\n",
      " [10 11 12]]\n",
      "\n",
      "Vector v: \n",
      " [1 0 1]\n",
      "\n",
      "Matrix Y: \n",
      " [[ 2  2  4]\n",
      " [ 5  5  7]\n",
      " [ 8  8 10]\n",
      " [11 11 13]]\n"
     ]
    }
   ],
   "source": [
    "import numpy as np\n",
    "\n",
    "X = np.array([[1,2,3],[4,5,6],[7,8,9],[10,11,12]])\n",
    "v = np.array([1,0,1])\n",
    "Y = np.empty_like(X)\n",
    "\n",
    "# Cách 1: Thêm vector v vào mỗi hàng của ma trận X bằng vòng lặp\n",
    "for i in range(4):\n",
    "    Y[i, :] = X[i, :] + v\n",
    "\n",
    "print('Matrix X: \\n', X)\n",
    "print('\\nVector v: \\n', v)\n",
    "print('\\nMatrix Y: \\n', Y)"
   ]
  },
  {
   "cell_type": "markdown",
   "metadata": {
    "id": "uX-wd5SBB2fh"
   },
   "source": [
    "Cách này hoạt động bình thường với ma trận X nhỏ. Khi ma trận X lớn, việc sử dụng vòng lặp này sẽ rất chậm.\n",
    "\n",
    "Chúng ta có thể thực hiện mục đích trên bằng cách xếp chồng nhiều bản sao của v theo chiều dọc, sau đó thực hiện phép tính tổng với X. Chúng ta có thể thực hiện phương pháp này như sau:"
   ]
  },
  {
   "cell_type": "code",
   "execution_count": null,
   "metadata": {
    "id": "HI0l5GdBB2fh",
    "outputId": "f05024fe-16d6-4c3b-e048-2a055c41f99d"
   },
   "outputs": [
    {
     "name": "stdout",
     "output_type": "stream",
     "text": [
      "Matrix X: \n",
      " [[ 1  2  3]\n",
      " [ 4  5  6]\n",
      " [ 7  8  9]\n",
      " [10 11 12]]\n",
      "\n",
      "Vector v: \n",
      " [1 0 1]\n",
      "\n",
      "Matrix v: \n",
      " [[1 0 1]\n",
      " [1 0 1]\n",
      " [1 0 1]\n",
      " [1 0 1]]\n",
      "\n",
      "Matrix Y: \n",
      " [[ 2  2  4]\n",
      " [ 5  5  7]\n",
      " [ 8  8 10]\n",
      " [11 11 13]]\n"
     ]
    }
   ],
   "source": [
    "import numpy as np\n",
    "\n",
    "X = np.array([[1,2,3],[4,5,6],[7,8,9],[10,11,12]])\n",
    "v = np.array([1,0,1])\n",
    "\n",
    "# Xếp chồng 4 bản sao của v lên nhau:\n",
    "V_t = np.tile(v, (4, 1))\n",
    "\n",
    "# Thực hiện phép cộng\n",
    "Y = X + V_t\n",
    "\n",
    "print('Matrix X: \\n', X)\n",
    "print('\\nVector v: \\n', v)\n",
    "print('\\nMatrix v: \\n', V_t)\n",
    "print('\\nMatrix Y: \\n', Y)"
   ]
  },
  {
   "cell_type": "markdown",
   "metadata": {
    "id": "y7LqXeuTB2fi"
   },
   "source": [
    "<img src=\"https://github.com/ngocthinh09/Machine_Learning/blob/main/Gi%E1%BB%9Bi%20thi%E1%BB%87u%20v%E1%BB%81%20Machine%20Learning/images/numpy/chap5_np_31.png?raw=1\" style=\"width:50%;height:50%;\">"
   ]
  },
  {
   "cell_type": "markdown",
   "metadata": {
    "id": "EhYXc6D5B2fj"
   },
   "source": [
    "Numpy broadcasting cho phép chúng ta thực thi tính toán này mà không cần phải làm thêm các bước thêm nào."
   ]
  },
  {
   "cell_type": "code",
   "execution_count": null,
   "metadata": {
    "id": "-30dDQUKB2fj",
    "outputId": "d9fe34b5-77dd-4c0f-aa99-4adc6c14203a"
   },
   "outputs": [
    {
     "name": "stdout",
     "output_type": "stream",
     "text": [
      "[[ 2  2  4]\n",
      " [ 5  5  7]\n",
      " [ 8  8 10]\n",
      " [11 11 13]]\n"
     ]
    }
   ],
   "source": [
    "import numpy as np\n",
    "\n",
    "X = np.array([[1,2,3],[4,5,6],[7,8,9],[10,11,12]])\n",
    "v = np.array([1,0,1])\n",
    "Y = X + v\n",
    "print(Y)"
   ]
  },
  {
   "cell_type": "markdown",
   "metadata": {
    "id": "aiGqORs9B2fj"
   },
   "source": [
    "<img src=\"https://github.com/ngocthinh09/Machine_Learning/blob/main/Gi%E1%BB%9Bi%20thi%E1%BB%87u%20v%E1%BB%81%20Machine%20Learning/images/numpy/chap5_np_32.png?raw=1\" style=\"width:50%;height:50%;\">"
   ]
  },
  {
   "cell_type": "markdown",
   "metadata": {
    "id": "R79zE4wJB2fj"
   },
   "source": [
    "### Tài liệu tham khảo\n",
    "\n",
    "[1] [CS231n Convolutional Neural Networks - Python Numpy Tutorial](http://cs231n.github.io/python-numpy-tutorial/#numpy-datatypes)"
   ]
  }
 ],
 "metadata": {
  "colab": {
   "include_colab_link": true,
   "provenance": []
  },
  "kernelspec": {
   "display_name": "Python 3",
   "language": "python",
   "name": "python3"
  },
  "language_info": {
   "codemirror_mode": {
    "name": "ipython",
    "version": 3
   },
   "file_extension": ".py",
   "mimetype": "text/x-python",
   "name": "python",
   "nbconvert_exporter": "python",
   "pygments_lexer": "ipython3",
   "version": "3.7.3"
  }
 },
 "nbformat": 4,
 "nbformat_minor": 0
}
