{
 "cells": [
  {
   "cell_type": "code",
   "execution_count": 13,
   "metadata": {},
   "outputs": [],
   "source": [
    "import numpy\n",
    "import pandas\n",
    "import sklearn\n",
    "from sklearn.neighbors import KNeighborsClassifier\n",
    "from sklearn import datasets\n",
    "from sklearn.model_selection import train_test_split"
   ]
  },
  {
   "cell_type": "code",
   "execution_count": 14,
   "metadata": {},
   "outputs": [
    {
     "name": "stdout",
     "output_type": "stream",
     "text": [
      "Sample from label 0: \n",
      " [[5.1 3.5 1.4 0.2]\n",
      " [4.9 3.  1.4 0.2]\n",
      " [4.7 3.2 1.3 0.2]\n",
      " [4.6 3.1 1.5 0.2]\n",
      " [5.  3.6 1.4 0.2]]\n",
      "Sample from label 1: \n",
      " [[7.  3.2 4.7 1.4]\n",
      " [6.4 3.2 4.5 1.5]\n",
      " [6.9 3.1 4.9 1.5]\n",
      " [5.5 2.3 4.  1.3]\n",
      " [6.5 2.8 4.6 1.5]]\n",
      "Sample from label 2: \n",
      " [[6.3 3.3 6.  2.5]\n",
      " [5.8 2.7 5.1 1.9]\n",
      " [7.1 3.  5.9 2.1]\n",
      " [6.3 2.9 5.6 1.8]\n",
      " [6.5 3.  5.8 2.2]]\n"
     ]
    }
   ],
   "source": [
    "iris_data = datasets.load_iris()\n",
    "iris_X = iris_data.data\n",
    "iris_y = iris_data.target\n",
    "\n",
    "iris_label_0 = iris_X[iris_y == 0,:]\n",
    "iris_label_1 = iris_X[iris_y == 1,:]\n",
    "iris_label_2 = iris_X[iris_y == 2,:]\n",
    "\n",
    "print(\"Sample from label 0: \\n\",iris_label_0[:5,:])\n",
    "print(\"Sample from label 1: \\n\",iris_label_1[:5,:])\n",
    "print(\"Sample from label 2: \\n\",iris_label_2[:5,:])\n"
   ]
  },
  {
   "cell_type": "code",
   "execution_count": 16,
   "metadata": {},
   "outputs": [
    {
     "name": "stdout",
     "output_type": "stream",
     "text": [
      "[1 1 2 0 1 0 2 2 1 1 2 0 1 1 0 1 2 2 2 0 0 2 0 2 0 0 2 0 1 0 1 2 0 1 1 0 0\n",
      " 2 2 2 1 0 0 2 2 0 1 0 1 1]\n"
     ]
    }
   ],
   "source": [
    "train_X, valid_X, train_y, valid_y = train_test_split(iris_X, iris_y, test_size = 50)\n",
    "\n",
    "knn_model = KNeighborsClassifier(n_neighbors = 2, p = 2)\n",
    "knn_model.fit(train_X, train_y)\n",
    "\n",
    "y_pred = knn_model.predict(valid_X)\n",
    "print(y_pred)"
   ]
  }
 ],
 "metadata": {
  "kernelspec": {
   "display_name": "Python 3",
   "language": "python",
   "name": "python3"
  },
  "language_info": {
   "codemirror_mode": {
    "name": "ipython",
    "version": 3
   },
   "file_extension": ".py",
   "mimetype": "text/x-python",
   "name": "python",
   "nbconvert_exporter": "python",
   "pygments_lexer": "ipython3",
   "version": "3.13.0"
  }
 },
 "nbformat": 4,
 "nbformat_minor": 2
}
